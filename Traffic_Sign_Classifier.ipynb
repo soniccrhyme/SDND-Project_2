{
 "cells": [
  {
   "cell_type": "markdown",
   "metadata": {
    "deletable": true,
    "editable": true
   },
   "source": [
    "# Self-Driving Car Engineer Nanodegree\n",
    "\n",
    "## Deep Learning\n",
    "\n",
    "## Project: Build a Traffic Sign Recognition Classifier\n",
    "\n",
    "In addition to implementing code, there is a writeup to complete. The writeup should be completed in a separate file, which can be either a markdown file or a pdf document. There is a [write up template](https://github.com/udacity/CarND-Traffic-Sign-Classifier-Project/blob/master/writeup_template.md) that can be used to guide the writing process. Completing the code template and writeup template will cover all of the [rubric points](https://review.udacity.com/#!/rubrics/481/view) for this project.\n",
    "\n",
    "The [rubric](https://review.udacity.com/#!/rubrics/481/view) contains \"Stand Out Suggestions\" for enhancing the project beyond the minimum requirements. The stand out suggestions are optional. If you decide to pursue the \"stand out suggestions\", you can include the code in this Ipython notebook and also discuss the results in the writeup file."
   ]
  },
  {
   "cell_type": "code",
   "execution_count": 1,
   "metadata": {
    "collapsed": false,
    "deletable": true,
    "editable": true
   },
   "outputs": [],
   "source": [
    "import matplotlib.pyplot as plt\n",
    "%matplotlib inline\n",
    "import numpy as np\n",
    "import pandas as pd\n",
    "import pickle, time, os\n",
    "\n",
    "import tensorflow as tf\n",
    "from tensorflow.contrib.layers import flatten\n",
    "from sklearn.utils import shuffle\n",
    "from sklearn.preprocessing import normalize\n",
    "\n",
    "\n",
    "from skimage.exposure import equalize_adapthist, equalize_hist, rescale_intensity\n",
    "from skimage.color import rgb2gray\n",
    "from skimage import img_as_ubyte, img_as_float\n",
    "from skimage.io import imread\n",
    "\n",
    "from skimage.transform import warp, rotate, resize\n",
    "from skimage.transform import AffineTransform\n",
    "from skimage.exposure import adjust_gamma"
   ]
  },
  {
   "cell_type": "code",
   "execution_count": 2,
   "metadata": {
    "collapsed": false,
    "deletable": true,
    "editable": true
   },
   "outputs": [],
   "source": [
    "# UTILITIES\n",
    "\n",
    "# Load Data\n",
    "def load_data(data_version, test = True):\n",
    "    file_name = data_version+'.npz'\n",
    "    if data_version == 'train':\n",
    "        data = np.load('train.p')\n",
    "        X = data['features']\n",
    "        y = data['labels']\n",
    "        return X,y\n",
    "    elif data_version == 'valid':\n",
    "        data = np.load('valid.p')\n",
    "        X = data['features']\n",
    "        y = data['labels']\n",
    "        return X,y\n",
    "    elif data_version == 'test':\n",
    "        data = np.load('test.p')\n",
    "        X = data['features']\n",
    "        y = data['labels']\n",
    "        return X,y\n",
    "    else:\n",
    "        if test == True:\n",
    "            data = np.load(file_name)\n",
    "            X = data['X']\n",
    "            y = data['y']\n",
    "            return X,y\n",
    "        else:\n",
    "            data = np.load(file_name)\n",
    "            X = data['X']\n",
    "            return X\n",
    "\n",
    "        \n",
    "def save_data(X, y=None, data_version = ''):\n",
    "    if data_version.lower() == 'extended':\n",
    "        file = 'extended.npz'\n",
    "    elif data_version.lower() == 'processed':\n",
    "        file = 'processed.npz'\n",
    "    elif data_version != '':\n",
    "        file = data_version+'.npz'\n",
    "    else:\n",
    "        raise(IOError('improper data_version argument'))\n",
    "    if y:\n",
    "        np.savez_compressed(file, X=X, y=y)\n",
    "    else:\n",
    "        np.savez_compressed(file, X=X)\n",
    "    print('Data saved to {}'.format(file+'.npz'))\n",
    "    return\n",
    "    "
   ]
  },
  {
   "cell_type": "markdown",
   "metadata": {
    "deletable": true,
    "editable": true
   },
   "source": [
    "---\n",
    "## Step 0: Load The Data"
   ]
  },
  {
   "cell_type": "code",
   "execution_count": 3,
   "metadata": {
    "collapsed": false,
    "deletable": true,
    "editable": true
   },
   "outputs": [],
   "source": [
    "X_train, y_train = load_data('train', test = True)\n",
    "X_valid, y_valid = load_data('valid', test = True)\n",
    "X_test, y_test = load_data('test', test = True)\n",
    "signkey = pd.read_csv('signnames.csv', index_col = 0)"
   ]
  },
  {
   "cell_type": "markdown",
   "metadata": {
    "deletable": true,
    "editable": true
   },
   "source": [
    "---\n",
    "\n",
    "## Step 1: Dataset Summary & Exploration\n",
    "\n",
    "The pickled data is a dictionary with 4 key/value pairs:\n",
    "\n",
    "- `'features'` is a 4D array containing raw pixel data of the traffic sign images, (num examples, width, height, channels).\n",
    "- `'labels'` is a 1D array containing the label/class id of the traffic sign. The file `signnames.csv` contains id -> name mappings for each id.\n",
    "- `'sizes'` is a list containing tuples, (width, height) representing the original width and height the image.\n",
    "- `'coords'` is a list containing tuples, (x1, y1, x2, y2) representing coordinates of a bounding box around the sign in the image. **THESE COORDINATES ASSUME THE ORIGINAL IMAGE. THE PICKLED DATA CONTAINS RESIZED VERSIONS (32 by 32) OF THESE IMAGES**\n",
    "\n",
    "Complete the basic data summary below. Use python, numpy and/or pandas methods to calculate the data summary rather than hard coding the results. For example, the [pandas shape method](http://pandas.pydata.org/pandas-docs/stable/generated/pandas.DataFrame.shape.html) might be useful for calculating some of the summary results. "
   ]
  },
  {
   "cell_type": "markdown",
   "metadata": {
    "deletable": true,
    "editable": true
   },
   "source": [
    "### Provide a Basic Summary of the Data Set Using Python, Numpy and/or Pandas"
   ]
  },
  {
   "cell_type": "code",
   "execution_count": 4,
   "metadata": {
    "collapsed": false,
    "deletable": true,
    "editable": true
   },
   "outputs": [
    {
     "name": "stdout",
     "output_type": "stream",
     "text": [
      "Number of training examples = 34799\n",
      "Number of validation examples = 4410\n",
      "Number of testing examples = 12630\n",
      "Image data shape = (32, 32, 3)\n",
      "Number of classes = 43\n"
     ]
    }
   ],
   "source": [
    "### Replace each question mark with the appropriate value. \n",
    "### Use python, pandas or numpy methods rather than hard coding the results\n",
    "\n",
    "# TODO: Number of training examples\n",
    "n_train = len(X_train)\n",
    "\n",
    "# TODO: Number of validation examples\n",
    "n_validation = len(X_valid)\n",
    "\n",
    "# TODO: Number of testing examples.\n",
    "n_test = len(X_test)\n",
    "\n",
    "# TODO: What's the shape of an traffic sign image?\n",
    "image_shape = X_train[0].shape\n",
    "\n",
    "# TODO: How many unique classes/labels there are in the dataset.\n",
    "n_classes = len(set(y_train))\n",
    "\n",
    "print(\"Number of training examples =\", n_train)\n",
    "print(\"Number of validation examples =\", n_validation)\n",
    "print(\"Number of testing examples =\", n_test)\n",
    "print(\"Image data shape =\", image_shape)\n",
    "print(\"Number of classes =\", n_classes)"
   ]
  },
  {
   "cell_type": "markdown",
   "metadata": {
    "deletable": true,
    "editable": true
   },
   "source": [
    "### Include an exploratory visualization of the dataset"
   ]
  },
  {
   "cell_type": "markdown",
   "metadata": {
    "deletable": true,
    "editable": true
   },
   "source": [
    "Visualize the German Traffic Signs Dataset using the pickled file(s). This is open ended, suggestions include: plotting traffic sign images, plotting the count of each sign, etc. \n",
    "\n",
    "The [Matplotlib](http://matplotlib.org/) [examples](http://matplotlib.org/examples/index.html) and [gallery](http://matplotlib.org/gallery.html) pages are a great resource for doing visualizations in Python.\n",
    "\n",
    "**NOTE:** It's recommended you start with something simple first. If you wish to do more, come back to it after you've completed the rest of the sections. It can be interesting to look at the distribution of classes in the training, validation and test set. Is the distribution the same? Are there more examples of some classes than others?"
   ]
  },
  {
   "cell_type": "code",
   "execution_count": 5,
   "metadata": {
    "collapsed": true,
    "deletable": true,
    "editable": true
   },
   "outputs": [],
   "source": [
    "### Data exploration visualization code goes here.\n",
    "### Feel free to use as many code cells as needed."
   ]
  },
  {
   "cell_type": "code",
   "execution_count": 6,
   "metadata": {
    "collapsed": false,
    "deletable": true,
    "editable": true
   },
   "outputs": [
    {
     "data": {
      "text/html": [
       "<div>\n",
       "<table border=\"1\" class=\"dataframe\">\n",
       "  <thead>\n",
       "    <tr style=\"text-align: right;\">\n",
       "      <th></th>\n",
       "      <th>SignName</th>\n",
       "      <th>Count in Train</th>\n",
       "    </tr>\n",
       "    <tr>\n",
       "      <th>ClassId</th>\n",
       "      <th></th>\n",
       "      <th></th>\n",
       "    </tr>\n",
       "  </thead>\n",
       "  <tbody>\n",
       "    <tr>\n",
       "      <th>0</th>\n",
       "      <td>Speed limit (20km/h)</td>\n",
       "      <td>180</td>\n",
       "    </tr>\n",
       "    <tr>\n",
       "      <th>1</th>\n",
       "      <td>Speed limit (30km/h)</td>\n",
       "      <td>1980</td>\n",
       "    </tr>\n",
       "    <tr>\n",
       "      <th>2</th>\n",
       "      <td>Speed limit (50km/h)</td>\n",
       "      <td>2010</td>\n",
       "    </tr>\n",
       "    <tr>\n",
       "      <th>3</th>\n",
       "      <td>Speed limit (60km/h)</td>\n",
       "      <td>1260</td>\n",
       "    </tr>\n",
       "    <tr>\n",
       "      <th>4</th>\n",
       "      <td>Speed limit (70km/h)</td>\n",
       "      <td>1770</td>\n",
       "    </tr>\n",
       "    <tr>\n",
       "      <th>5</th>\n",
       "      <td>Speed limit (80km/h)</td>\n",
       "      <td>1650</td>\n",
       "    </tr>\n",
       "    <tr>\n",
       "      <th>6</th>\n",
       "      <td>End of speed limit (80km/h)</td>\n",
       "      <td>360</td>\n",
       "    </tr>\n",
       "    <tr>\n",
       "      <th>7</th>\n",
       "      <td>Speed limit (100km/h)</td>\n",
       "      <td>1290</td>\n",
       "    </tr>\n",
       "    <tr>\n",
       "      <th>8</th>\n",
       "      <td>Speed limit (120km/h)</td>\n",
       "      <td>1260</td>\n",
       "    </tr>\n",
       "    <tr>\n",
       "      <th>9</th>\n",
       "      <td>No passing</td>\n",
       "      <td>1320</td>\n",
       "    </tr>\n",
       "    <tr>\n",
       "      <th>10</th>\n",
       "      <td>No passing for vehicles over 3.5 metric tons</td>\n",
       "      <td>1800</td>\n",
       "    </tr>\n",
       "    <tr>\n",
       "      <th>11</th>\n",
       "      <td>Right-of-way at the next intersection</td>\n",
       "      <td>1170</td>\n",
       "    </tr>\n",
       "    <tr>\n",
       "      <th>12</th>\n",
       "      <td>Priority road</td>\n",
       "      <td>1890</td>\n",
       "    </tr>\n",
       "    <tr>\n",
       "      <th>13</th>\n",
       "      <td>Yield</td>\n",
       "      <td>1920</td>\n",
       "    </tr>\n",
       "    <tr>\n",
       "      <th>14</th>\n",
       "      <td>Stop</td>\n",
       "      <td>690</td>\n",
       "    </tr>\n",
       "    <tr>\n",
       "      <th>15</th>\n",
       "      <td>No vehicles</td>\n",
       "      <td>540</td>\n",
       "    </tr>\n",
       "    <tr>\n",
       "      <th>16</th>\n",
       "      <td>Vehicles over 3.5 metric tons prohibited</td>\n",
       "      <td>360</td>\n",
       "    </tr>\n",
       "    <tr>\n",
       "      <th>17</th>\n",
       "      <td>No entry</td>\n",
       "      <td>990</td>\n",
       "    </tr>\n",
       "    <tr>\n",
       "      <th>18</th>\n",
       "      <td>General caution</td>\n",
       "      <td>1080</td>\n",
       "    </tr>\n",
       "    <tr>\n",
       "      <th>19</th>\n",
       "      <td>Dangerous curve to the left</td>\n",
       "      <td>180</td>\n",
       "    </tr>\n",
       "    <tr>\n",
       "      <th>20</th>\n",
       "      <td>Dangerous curve to the right</td>\n",
       "      <td>300</td>\n",
       "    </tr>\n",
       "    <tr>\n",
       "      <th>21</th>\n",
       "      <td>Double curve</td>\n",
       "      <td>270</td>\n",
       "    </tr>\n",
       "    <tr>\n",
       "      <th>22</th>\n",
       "      <td>Bumpy road</td>\n",
       "      <td>330</td>\n",
       "    </tr>\n",
       "    <tr>\n",
       "      <th>23</th>\n",
       "      <td>Slippery road</td>\n",
       "      <td>450</td>\n",
       "    </tr>\n",
       "    <tr>\n",
       "      <th>24</th>\n",
       "      <td>Road narrows on the right</td>\n",
       "      <td>240</td>\n",
       "    </tr>\n",
       "    <tr>\n",
       "      <th>25</th>\n",
       "      <td>Road work</td>\n",
       "      <td>1350</td>\n",
       "    </tr>\n",
       "    <tr>\n",
       "      <th>26</th>\n",
       "      <td>Traffic signals</td>\n",
       "      <td>540</td>\n",
       "    </tr>\n",
       "    <tr>\n",
       "      <th>27</th>\n",
       "      <td>Pedestrians</td>\n",
       "      <td>210</td>\n",
       "    </tr>\n",
       "    <tr>\n",
       "      <th>28</th>\n",
       "      <td>Children crossing</td>\n",
       "      <td>480</td>\n",
       "    </tr>\n",
       "    <tr>\n",
       "      <th>29</th>\n",
       "      <td>Bicycles crossing</td>\n",
       "      <td>240</td>\n",
       "    </tr>\n",
       "    <tr>\n",
       "      <th>30</th>\n",
       "      <td>Beware of ice/snow</td>\n",
       "      <td>390</td>\n",
       "    </tr>\n",
       "    <tr>\n",
       "      <th>31</th>\n",
       "      <td>Wild animals crossing</td>\n",
       "      <td>690</td>\n",
       "    </tr>\n",
       "    <tr>\n",
       "      <th>32</th>\n",
       "      <td>End of all speed and passing limits</td>\n",
       "      <td>210</td>\n",
       "    </tr>\n",
       "    <tr>\n",
       "      <th>33</th>\n",
       "      <td>Turn right ahead</td>\n",
       "      <td>599</td>\n",
       "    </tr>\n",
       "    <tr>\n",
       "      <th>34</th>\n",
       "      <td>Turn left ahead</td>\n",
       "      <td>360</td>\n",
       "    </tr>\n",
       "    <tr>\n",
       "      <th>35</th>\n",
       "      <td>Ahead only</td>\n",
       "      <td>1080</td>\n",
       "    </tr>\n",
       "    <tr>\n",
       "      <th>36</th>\n",
       "      <td>Go straight or right</td>\n",
       "      <td>330</td>\n",
       "    </tr>\n",
       "    <tr>\n",
       "      <th>37</th>\n",
       "      <td>Go straight or left</td>\n",
       "      <td>180</td>\n",
       "    </tr>\n",
       "    <tr>\n",
       "      <th>38</th>\n",
       "      <td>Keep right</td>\n",
       "      <td>1860</td>\n",
       "    </tr>\n",
       "    <tr>\n",
       "      <th>39</th>\n",
       "      <td>Keep left</td>\n",
       "      <td>270</td>\n",
       "    </tr>\n",
       "    <tr>\n",
       "      <th>40</th>\n",
       "      <td>Roundabout mandatory</td>\n",
       "      <td>300</td>\n",
       "    </tr>\n",
       "    <tr>\n",
       "      <th>41</th>\n",
       "      <td>End of no passing</td>\n",
       "      <td>210</td>\n",
       "    </tr>\n",
       "    <tr>\n",
       "      <th>42</th>\n",
       "      <td>End of no passing by vehicles over 3.5 metric ...</td>\n",
       "      <td>210</td>\n",
       "    </tr>\n",
       "  </tbody>\n",
       "</table>\n",
       "</div>"
      ],
      "text/plain": [
       "                                                  SignName  Count in Train\n",
       "ClassId                                                                   \n",
       "0                                     Speed limit (20km/h)             180\n",
       "1                                     Speed limit (30km/h)            1980\n",
       "2                                     Speed limit (50km/h)            2010\n",
       "3                                     Speed limit (60km/h)            1260\n",
       "4                                     Speed limit (70km/h)            1770\n",
       "5                                     Speed limit (80km/h)            1650\n",
       "6                              End of speed limit (80km/h)             360\n",
       "7                                    Speed limit (100km/h)            1290\n",
       "8                                    Speed limit (120km/h)            1260\n",
       "9                                               No passing            1320\n",
       "10            No passing for vehicles over 3.5 metric tons            1800\n",
       "11                   Right-of-way at the next intersection            1170\n",
       "12                                           Priority road            1890\n",
       "13                                                   Yield            1920\n",
       "14                                                    Stop             690\n",
       "15                                             No vehicles             540\n",
       "16                Vehicles over 3.5 metric tons prohibited             360\n",
       "17                                                No entry             990\n",
       "18                                         General caution            1080\n",
       "19                             Dangerous curve to the left             180\n",
       "20                            Dangerous curve to the right             300\n",
       "21                                            Double curve             270\n",
       "22                                              Bumpy road             330\n",
       "23                                           Slippery road             450\n",
       "24                               Road narrows on the right             240\n",
       "25                                               Road work            1350\n",
       "26                                         Traffic signals             540\n",
       "27                                             Pedestrians             210\n",
       "28                                       Children crossing             480\n",
       "29                                       Bicycles crossing             240\n",
       "30                                      Beware of ice/snow             390\n",
       "31                                   Wild animals crossing             690\n",
       "32                     End of all speed and passing limits             210\n",
       "33                                        Turn right ahead             599\n",
       "34                                         Turn left ahead             360\n",
       "35                                              Ahead only            1080\n",
       "36                                    Go straight or right             330\n",
       "37                                     Go straight or left             180\n",
       "38                                              Keep right            1860\n",
       "39                                               Keep left             270\n",
       "40                                    Roundabout mandatory             300\n",
       "41                                       End of no passing             210\n",
       "42       End of no passing by vehicles over 3.5 metric ...             210"
      ]
     },
     "execution_count": 6,
     "metadata": {},
     "output_type": "execute_result"
    }
   ],
   "source": [
    "y_train_df = pd.Series(y_train)\n",
    "value_counts = pd.DataFrame(y_train_df.value_counts(), columns = ['Count in Train'])\n",
    "value_counts.sort_index(inplace = True)\n",
    "signkey['Count in Train'] = value_counts['Count in Train']\n",
    "del value_counts\n",
    "signkey"
   ]
  },
  {
   "cell_type": "code",
   "execution_count": 7,
   "metadata": {
    "collapsed": false,
    "deletable": true,
    "editable": true
   },
   "outputs": [
    {
     "data": {
      "text/plain": [
       "<function matplotlib.pyplot.show>"
      ]
     },
     "execution_count": 7,
     "metadata": {},
     "output_type": "execute_result"
    },
    {
     "data": {
      "image/png": "[encoded data removed]",
      "text/plain": [
       "<matplotlib.figure.Figure at 0x7f0da03924a8>"
      ]
     },
     "metadata": {},
     "output_type": "display_data"
    }
   ],
   "source": [
    "plt.boxplot(signkey['Count in Train'])\n",
    "plt.suptitle('Distribution of Class Counts in Train', fontweight = 'bold')\n",
    "plt.show"
   ]
  },
  {
   "cell_type": "code",
   "execution_count": 8,
   "metadata": {
    "collapsed": false,
    "deletable": true,
    "editable": true
   },
   "outputs": [
    {
     "data": {
      "text/plain": [
       "<matplotlib.text.Text at 0x7f0cfd2622b0>"
      ]
     },
     "execution_count": 8,
     "metadata": {},
     "output_type": "execute_result"
    },
    {
     "data": {
      "image/png": "[encoded data removed]",
      "text/plain": [
       "<matplotlib.figure.Figure at 0x7f0cfd3bb470>"
      ]
     },
     "metadata": {},
     "output_type": "display_data"
    }
   ],
   "source": [
    "plt.close('all')\n",
    "fig, ((ax1,ax2),(ax3,ax4)) = plt.subplots(2,2, figsize = (10,10))\n",
    "rand_index = np.random.choice(np.arange(n_train),4)\n",
    "im1 = ax1.imshow(X_train[rand_index[0]])\n",
    "ax1.set_title(signkey.loc[y_train[rand_index[0]],'SignName'])\n",
    "im2 = ax2.imshow(X_train[rand_index[1]])\n",
    "ax2.set_title(signkey.loc[y_train[rand_index[1]],'SignName'])\n",
    "im3 = ax3.imshow(X_train[rand_index[2]])\n",
    "ax3.set_title(signkey.loc[y_train[rand_index[2]],'SignName'])\n",
    "im4 = ax4.imshow(X_train[rand_index[3]])\n",
    "ax4.set_title(signkey.loc[y_train[rand_index[3]],'SignName'])\n",
    "\n",
    "fig.suptitle('Some Random Train Images and their Class', fontweight = 'bold')"
   ]
  },
  {
   "cell_type": "markdown",
   "metadata": {
    "deletable": true,
    "editable": true
   },
   "source": [
    "----\n",
    "\n",
    "## Step 2: Design and Test a Model Architecture\n",
    "\n",
    "Design and implement a deep learning model that learns to recognize traffic signs. Train and test your model on the [German Traffic Sign Dataset](http://benchmark.ini.rub.de/?section=gtsrb&subsection=dataset).\n",
    "\n",
    "The LeNet-5 implementation shown in the [classroom](https://classroom.udacity.com/nanodegrees/nd013/parts/fbf77062-5703-404e-b60c-95b78b2f3f9e/modules/6df7ae49-c61c-4bb2-a23e-6527e69209ec/lessons/601ae704-1035-4287-8b11-e2c2716217ad/concepts/d4aca031-508f-4e0b-b493-e7b706120f81) at the end of the CNN lesson is a solid starting point. You'll have to change the number of classes and possibly the preprocessing, but aside from that it's plug and play! \n",
    "\n",
    "With the LeNet-5 solution from the lecture, you should expect a validation set accuracy of about 0.89. To meet specifications, the validation set accuracy will need to be at least 0.93. It is possible to get an even higher accuracy, but 0.93 is the minimum for a successful project submission. \n",
    "\n",
    "There are various aspects to consider when thinking about this problem:\n",
    "\n",
    "- Neural network architecture (is the network over or underfitting?)\n",
    "- Play around preprocessing techniques (normalization, rgb to grayscale, etc)\n",
    "- Number of examples per label (some have more than others).\n",
    "- Generate fake data.\n",
    "\n",
    "Here is an example of a [published baseline model on this problem](http://yann.lecun.com/exdb/publis/pdf/sermanet-ijcnn-11.pdf). It's not required to be familiar with the approach used in the paper but, it's good practice to try to read papers like these."
   ]
  },
  {
   "cell_type": "markdown",
   "metadata": {
    "deletable": true,
    "editable": true
   },
   "source": [
    "### Pre-process the Data Set (normalization, grayscale, etc.)"
   ]
  },
  {
   "cell_type": "markdown",
   "metadata": {
    "deletable": true,
    "editable": true
   },
   "source": [
    "Minimally, the image data should be normalized so that the data has mean zero and equal variance. For image data, `(pixel - 128)/ 128` is a quick way to approximately normalize the data and can be used in this project. \n",
    "\n",
    "Other pre-processing steps are optional. You can try different techniques to see if it improves performance. \n",
    "\n",
    "Use the code cell (or multiple code cells, if necessary) to implement the first step of your project."
   ]
  },
  {
   "cell_type": "code",
   "execution_count": 9,
   "metadata": {
    "collapsed": true,
    "deletable": true,
    "editable": true
   },
   "outputs": [],
   "source": [
    "### Preprocess the data here. It is required to normalize the data. Other preprocessing steps could include \n",
    "### converting to grayscale, etc.\n",
    "### Feel free to use as many code cells as needed."
   ]
  },
  {
   "cell_type": "code",
   "execution_count": 10,
   "metadata": {
    "collapsed": true,
    "deletable": true,
    "editable": true
   },
   "outputs": [],
   "source": [
    "import time\n",
    "def preprocessing(X, contrast_mode, grayscale = True, scale = True, batch_size = 5000):\n",
    "    if grayscale:\n",
    "        X_processed = np.ndarray([0, X.shape[1], X.shape[2], 1])\n",
    "    else:\n",
    "        X_processed = np.ndarray([0, X.shape[1], X.shape[2], X.shape[3]])\n",
    "    \n",
    "    batches = int(np.floor(X.shape[0]/batch_size)+1)\n",
    "    \n",
    "    start_time = time.time()\n",
    "    for batch in range(batches):\n",
    "        if grayscale:\n",
    "            X_batch_processed = np.ndarray([0, X.shape[1], X.shape[2], 1])\n",
    "        else:\n",
    "            X_batch_processed = np.ndarray([0, X.shape[1], X.shape[2], X.shape[3]])\n",
    "        start = batch*batch_size\n",
    "        stop = start+batch_size\n",
    "        X_slice = X[start:stop]\n",
    "        for img in X_slice:\n",
    "            if grayscale:\n",
    "                img = img_as_ubyte(rgb2gray(img))\n",
    "            if 'adapt' in contrast_mode:\n",
    "                img = img_as_ubyte(equalize_adapthist(img.astype(np.uint8))).astype(np.uint8)\n",
    "            elif 'equalize' in contrast_mode:\n",
    "                img = img_as_ubyte(equalize_hist(img.astype(np.uint8))).astype(np.uint8)\n",
    "            elif 'stretch' in contrast_mode:\n",
    "                img = img_as_ubyte(rescale_intensity(img.astype(np.uint8))).astype(np.uint8)\n",
    "            if scale:\n",
    "                img = img_as_float(img)\n",
    "            img = img.reshape(32, 32, 1)\n",
    "            X_batch_processed = np.append(X_batch_processed, [img], axis = 0)\n",
    "\n",
    "        X_processed = np.append(X_processed, X_batch_processed, axis = 0)\n",
    "        loop = time.time()\n",
    "        print('{} images preprocessed in {}s'.format(min([X_batch_processed.shape[0],(batch+1)*batch_size]), loop-start_time))\n",
    "    \n",
    "    return X_processed\n",
    "        \n",
    "        "
   ]
  },
  {
   "cell_type": "code",
   "execution_count": 11,
   "metadata": {
    "collapsed": true,
    "deletable": true,
    "editable": true
   },
   "outputs": [],
   "source": [
    "processing_mode = 'adapt'"
   ]
  },
  {
   "cell_type": "code",
   "execution_count": 12,
   "metadata": {
    "collapsed": false,
    "deletable": true,
    "editable": true
   },
   "outputs": [],
   "source": [
    "data = np.load('processed_{}.npz'.format(processing_mode))\n",
    "X_processed = data['X']\n",
    "y_processed = data['y']\n",
    "del data"
   ]
  },
  {
   "cell_type": "code",
   "execution_count": 13,
   "metadata": {
    "collapsed": false,
    "deletable": true,
    "editable": true
   },
   "outputs": [],
   "source": [
    "data = np.load('valid_processed_{}.npz'.format(processing_mode))\n",
    "X_valid_processed = data['X']\n",
    "y_valid = data['y']\n",
    "del data"
   ]
  },
  {
   "cell_type": "code",
   "execution_count": 14,
   "metadata": {
    "collapsed": true,
    "deletable": true,
    "editable": true
   },
   "outputs": [],
   "source": [
    "data = np.load('test_processed_{}.npz'.format(processing_mode))\n",
    "X_test_processed = data['X']\n",
    "y_test = data['y']\n",
    "del data"
   ]
  },
  {
   "cell_type": "code",
   "execution_count": 15,
   "metadata": {
    "collapsed": true,
    "deletable": true,
    "editable": true
   },
   "outputs": [],
   "source": [
    "X_processed = (X_processed-128)/128.\n",
    "X_valid_processed = (X_valid_processed-128)/128.\n",
    "X_test_processed = (X_test_processed-128)/128."
   ]
  },
  {
   "cell_type": "code",
   "execution_count": null,
   "metadata": {
    "collapsed": true
   },
   "outputs": [],
   "source": []
  },
  {
   "cell_type": "markdown",
   "metadata": {
    "deletable": true,
    "editable": true
   },
   "source": [
    "### Model Architecture"
   ]
  },
  {
   "cell_type": "code",
   "execution_count": 36,
   "metadata": {
    "collapsed": true
   },
   "outputs": [],
   "source": [
    "param_dict = {\n",
    "        'learning_rate': 0.0005,\n",
    "        'batch_size': 256,\n",
    "        'epochs': 10\n",
    "    }"
   ]
  },
  {
   "cell_type": "code",
   "execution_count": 37,
   "metadata": {
    "collapsed": false,
    "deletable": true,
    "editable": true
   },
   "outputs": [],
   "source": [
    "def LeSermaNet(x):    \n",
    "    \n",
    "    mu = 0\n",
    "    sigma = 0.1\n",
    "    \n",
    "    \n",
    "    # Layer 1: Convolutional. Input = 32x32; Output = 32x32@cnn_1_depth\n",
    "    cnn_1_depth = 24\n",
    "    cnn_1_fsize = 4\n",
    "    cnn_1_W = tf.Variable(tf.random_normal([cnn_1_fsize, cnn_1_fsize, 1, cnn_1_depth], mean = mu, stddev = sigma))\n",
    "    cnn_1_b = tf.Variable(tf.zeros([cnn_1_depth]))\n",
    "    out_cnn_1 = tf.nn.conv2d(x, cnn_1_W, strides = [1,1,1,1], padding = 'SAME')\n",
    "    out_cnn_1 = tf.nn.bias_add(out_cnn_1, cnn_1_b)\n",
    "\n",
    "    # Activation.\n",
    "    out_cnn_1 = tf.nn.elu(out_cnn_1)\n",
    "\n",
    "    # Pooling. Input = 32x32@cnn_1_depth; Output = 16x16@cnn_1_depth\n",
    "    out_pool_1 = tf.nn.max_pool(out_cnn_1, ksize = [1,2,2,1], strides = [1,2,2,1], padding = 'SAME')\n",
    "    # For multi-layer passthrough; input = 16x16@cnn_1_depth; Ouput = 8x8@cnn_1_depth\n",
    "    multi_layer_1 = flatten(tf.nn.max_pool(out_pool_1, ksize = [1,2,2,1], strides = [1,2,2,1], padding = 'SAME'))\n",
    "\n",
    "    # Layer 2: Convolutional. Input\n",
    "    cnn_2_depth = 48\n",
    "    cnn_2_fsize = 4\n",
    "    cnn_2_W = tf.Variable(tf.random_normal([cnn_2_fsize, cnn_2_fsize, cnn_1_depth, cnn_2_depth], mean = mu, stddev = sigma))\n",
    "    cnn_2_b = tf.Variable(tf.zeros([cnn_2_depth]))\n",
    "    out_cnn_2 = tf.nn.conv2d(out_pool_1, cnn_2_W, strides = [1,1,1,1], padding = 'SAME')\n",
    "    out_cnn_2 = tf.nn.bias_add(out_cnn_2, cnn_2_b)\n",
    "    \n",
    "    # Activation.\n",
    "    out_cnn_2 = tf.nn.elu(out_cnn_2)\n",
    "    \n",
    "    # Pooling. Input = 16x16@cnn_2_depth, Output = 8x8@cnn_2_depth\n",
    "    out_pool_2 = tf.nn.max_pool(out_cnn_2, ksize = [1,2,2,1], strides = [1,2,2,1], padding = 'SAME')\n",
    "    # For multi-layer passthrough; input = 8x8@cnn_2_depth; Output = 4x4@cnn_2_depth\n",
    "    multi_layer_2 = flatten(tf.nn.max_pool(out_pool_2, ksize = [1,2,2,1], strides = [1,2,2,1], padding = 'SAME'))\n",
    "\n",
    "    # Flatten. Input = 8x8xcnn_2_depth,\n",
    "    flattened = flatten(out_pool_2)\n",
    "    \n",
    "    # Concat all passthrough tensor with final \n",
    "    #in_full_1 = tf.concat([flattened, multi_layer_1, multi_layer_2], axis = 1)\n",
    "    in_full_1 = tf.concat(values = [flattened, multi_layer_1, multi_layer_2], concat_dim = 1)\n",
    "    in_full_depth = int((8*8*cnn_2_depth) + (4*4*cnn_2_depth)+ (8*8*cnn_1_depth))\n",
    "    \n",
    "    # Fully Connected. Input =\n",
    "    full_1_depth = int(in_full_depth/4)\n",
    "    full_1_W = tf.Variable(tf.truncated_normal(shape = [in_full_depth, full_1_depth], mean = mu, stddev = sigma))\n",
    "    full_1_b = tf.Variable(tf.zeros([full_1_depth]))\n",
    "    out_full_1 = tf.add(tf.matmul(in_full_1, full_1_W), full_1_b)\n",
    "    \n",
    "    # Activation.\n",
    "    keep_prob_1 = 0.75\n",
    "    out_full_1 = tf.nn.elu(out_full_1)\n",
    "    out_full_1 = tf.nn.dropout(out_full_1, keep_prob = keep_prob_1)\n",
    "\n",
    "    # TODO: Layer 4: Fully Connected. Input = 120. Output = 84.\n",
    "    full_2_depth = 240\n",
    "    \n",
    "    full_2_W = tf.Variable(tf.truncated_normal(shape = [full_1_depth, full_2_depth], mean = mu, stddev = sigma))\n",
    "    full_2_b = tf.Variable(tf.zeros([full_2_depth]))\n",
    "    out_full_2 = tf.add(tf.matmul(out_full_1, full_2_W), full_2_b)\n",
    "    \n",
    "    # TODO: Activation\n",
    "    keep_prob_2 = 0.5\n",
    "    out_full_2 = tf.nn.elu(out_full_2)\n",
    "    out_full_2 = tf.nn.dropout(out_full_2, keep_prob = keep_prob_2)\n",
    "\n",
    "    # TODO: Layer 5: Fully Connected. Input = 84. Output = 10.\n",
    "    out_W = tf.Variable(tf.truncated_normal(shape = [full_2_depth, 43], mean = mu, stddev = sigma))\n",
    "    out_b = tf.Variable(tf.zeros(shape = 43))\n",
    "    logits = tf.add(tf.matmul(out_full_2, out_W),out_b)\n",
    "    \n",
    "    return logits"
   ]
  },
  {
   "cell_type": "code",
   "execution_count": 38,
   "metadata": {
    "collapsed": false,
    "deletable": true,
    "editable": true
   },
   "outputs": [],
   "source": [
    "x = tf.placeholder(tf.float32, (None, 32, 32, 1))\n",
    "y = tf.placeholder(tf.int32, (None))\n",
    "one_hot_y = tf.one_hot(y, n_classes)"
   ]
  },
  {
   "cell_type": "markdown",
   "metadata": {
    "deletable": true,
    "editable": true
   },
   "source": [
    "### Train, Validate and Test the Model"
   ]
  },
  {
   "cell_type": "markdown",
   "metadata": {
    "deletable": true,
    "editable": true
   },
   "source": [
    "A validation set can be used to assess how well the model is performing. A low accuracy on the training and validation\n",
    "sets imply underfitting. A high accuracy on the training set but low accuracy on the validation set implies overfitting."
   ]
  },
  {
   "cell_type": "code",
   "execution_count": 39,
   "metadata": {
    "collapsed": false,
    "deletable": true,
    "editable": true
   },
   "outputs": [],
   "source": [
    "rate = param_dict['learning_rate']\n",
    "\n",
    "logits = LeSermaNet(x)\n",
    "cross_entropy = tf.nn.softmax_cross_entropy_with_logits(labels=one_hot_y, logits=logits)\n",
    "loss_operation = tf.reduce_mean(cross_entropy)\n",
    "#optimizer = tf.train.MomentumOptimizer(learning_rate = rate, momentum = 0.9)\n",
    "optimizer = tf.train.AdamOptimizer(learning_rate = rate)\n",
    "training_operation = optimizer.minimize(loss_operation)"
   ]
  },
  {
   "cell_type": "code",
   "execution_count": 40,
   "metadata": {
    "collapsed": true,
    "deletable": true,
    "editable": true
   },
   "outputs": [],
   "source": [
    "correct_prediction = tf.equal(tf.argmax(logits, 1), tf.argmax(one_hot_y, 1))\n",
    "accuracy_operation = tf.reduce_mean(tf.cast(correct_prediction, tf.float32))\n",
    "saver = tf.train.Saver()\n",
    "\n",
    "def evaluate(X_data, y_data):\n",
    "    num_examples = len(X_data)\n",
    "    total_accuracy = 0\n",
    "    sess = tf.get_default_session()\n",
    "    for offset in range(0, num_examples, BATCH_SIZE):\n",
    "        batch_x, batch_y = X_data[offset:offset+BATCH_SIZE], y_data[offset:offset+BATCH_SIZE]\n",
    "        accuracy = sess.run(accuracy_operation, feed_dict={x: batch_x, y: batch_y})\n",
    "        total_accuracy += (accuracy * len(batch_x))\n",
    "    return total_accuracy / num_examples"
   ]
  },
  {
   "cell_type": "code",
   "execution_count": 41,
   "metadata": {
    "collapsed": false,
    "deletable": true,
    "editable": true,
    "scrolled": true
   },
   "outputs": [
    {
     "name": "stdout",
     "output_type": "stream",
     "text": [
      "Training...\n",
      "\n",
      "Epoch 1 ...\n",
      "Training Accuracy = 0.848\n",
      "Validation Accuracy = 0.868\n",
      "1 Epochs in 2.73m @ 2.7m/epoch\n",
      "\n",
      "Epoch 2 ...\n",
      "Training Accuracy = 0.919\n",
      "Validation Accuracy = 0.915\n",
      "2 Epochs in 6.12m @ 3.1m/epoch\n",
      "\n",
      "Epoch 3 ...\n",
      "Training Accuracy = 0.952\n",
      "Validation Accuracy = 0.948\n",
      "3 Epochs in 9.56m @ 3.2m/epoch\n",
      "\n",
      "Epoch 4 ...\n",
      "Training Accuracy = 0.966\n",
      "Validation Accuracy = 0.955\n",
      "4 Epochs in 12.98m @ 3.2m/epoch\n",
      "\n",
      "Epoch 5 ...\n",
      "Training Accuracy = 0.971\n",
      "Validation Accuracy = 0.948\n",
      "5 Epochs in 16.39m @ 3.3m/epoch\n",
      "\n",
      "Epoch 6 ...\n",
      "Training Accuracy = 0.977\n",
      "Validation Accuracy = 0.950\n",
      "6 Epochs in 19.82m @ 3.3m/epoch\n",
      "\n",
      "Epoch 7 ...\n",
      "Training Accuracy = 0.983\n",
      "Validation Accuracy = 0.957\n",
      "7 Epochs in 23.26m @ 3.3m/epoch\n",
      "\n",
      "Epoch 8 ...\n",
      "Training Accuracy = 0.985\n",
      "Validation Accuracy = 0.959\n",
      "8 Epochs in 26.76m @ 3.3m/epoch\n",
      "\n",
      "Epoch 9 ...\n",
      "Training Accuracy = 0.986\n",
      "Validation Accuracy = 0.958\n",
      "9 Epochs in 30.29m @ 3.4m/epoch\n",
      "\n",
      "Epoch 10 ...\n",
      "Training Accuracy = 0.988\n",
      "Validation Accuracy = 0.960\n",
      "10 Epochs in 33.95m @ 3.4m/epoch\n",
      "\n",
      "Model saved to ./lesermanet\n"
     ]
    }
   ],
   "source": [
    "EPOCHS = param_dict['epochs']\n",
    "BATCH_SIZE = param_dict['batch_size']\n",
    "\n",
    "with tf.Session() as sess:\n",
    "    time_start = time.time()\n",
    "    \n",
    "    sess.run(tf.global_variables_initializer())\n",
    "    num_examples = len(X_train)\n",
    "    \n",
    "    epoch_scores = []\n",
    "    \n",
    "    print(\"Training...\")\n",
    "    print()\n",
    "    for i in range(EPOCHS):\n",
    "        #X_train, y_train = shuffle(X_train, y_train)\n",
    "        X_train, y_train = shuffle(X_processed, y_processed)\n",
    "        for offset in range(0, num_examples, BATCH_SIZE):\n",
    "            end = offset + BATCH_SIZE\n",
    "            batch_x, batch_y = X_train[offset:end], y_train[offset:end]\n",
    "            sess.run(training_operation, feed_dict={x: batch_x, y: batch_y})\n",
    "        \n",
    "        time_epoch = time.time()\n",
    "        #validation_accuracy = evaluate(X_valid, y_valid)\n",
    "        train_accuracy = evaluate(X_processed, y_processed)\n",
    "        validation_accuracy = evaluate(X_valid_processed, y_valid)\n",
    "        epoch_scores.append(validation_accuracy)\n",
    "        print(\"Epoch {} ...\".format(i+1))\n",
    "        print(\"Training Accuracy = {:.3f}\".format(train_accuracy))\n",
    "        print(\"Validation Accuracy = {:.3f}\".format(validation_accuracy))\n",
    "        print(\"{} Epochs in {:.2f}m @ {:.1f}m/epoch\".format(i+1, (time_epoch-time_start)/60., ((time_epoch-time_start)/60.)/(i+1)))\n",
    "        print()\n",
    "    \n",
    "    save_path = saver.save(sess, './lesermanet')\n",
    "    saver.save(sess, './lesermanet')\n",
    "    print(\"Model saved to %s\" % save_path)"
   ]
  },
  {
   "cell_type": "markdown",
   "metadata": {
    "deletable": true,
    "editable": true
   },
   "source": [
    "## Evaluation"
   ]
  },
  {
   "cell_type": "code",
   "execution_count": 42,
   "metadata": {
    "collapsed": false,
    "deletable": true,
    "editable": true
   },
   "outputs": [
    {
     "name": "stdout",
     "output_type": "stream",
     "text": [
      "Test Accuracy = 0.940\n"
     ]
    }
   ],
   "source": [
    "with tf.Session() as sess:\n",
    "    saver.restore(sess, './lesermanet')\n",
    "\n",
    "    test_accuracy = evaluate(X_test_processed, y_test)\n",
    "    print(\"Test Accuracy = {:.3f}\".format(test_accuracy))"
   ]
  },
  {
   "cell_type": "markdown",
   "metadata": {
    "deletable": true,
    "editable": true
   },
   "source": [
    "---\n",
    "\n",
    "## Step 3: Test a Model on New Images\n",
    "\n",
    "To give yourself more insight into how your model is working, download at least five pictures of German traffic signs from the web and use your model to predict the traffic sign type.\n",
    "\n",
    "You may find `signnames.csv` useful as it contains mappings from the class id (integer) to the actual sign name."
   ]
  },
  {
   "cell_type": "markdown",
   "metadata": {
    "deletable": true,
    "editable": true
   },
   "source": [
    "### Load and Output the Images"
   ]
  },
  {
   "cell_type": "code",
   "execution_count": 127,
   "metadata": {
    "collapsed": false,
    "deletable": true,
    "editable": true
   },
   "outputs": [],
   "source": [
    "### Load the images and plot them here.\n",
    "\n",
    "def load_images():\n",
    "    custom_images = np.ndarray([0, 32, 32, 3])\n",
    "    for file in os.listdir('german_roadsigns'):\n",
    "        img = imread('german_roadsigns/{}'.format(file))\n",
    "        img = img[:,:,:3]\n",
    "        img = resize(img, (32,32))\n",
    "        custom_images = np.append(custom_images, [img], axis = 0)\n",
    "    return custom_images\n",
    "\n",
    "X_custom = load_images()\n",
    "y_custom = np.array([12, 38, 18, 17, 1])"
   ]
  },
  {
   "cell_type": "code",
   "execution_count": 128,
   "metadata": {
    "collapsed": false
   },
   "outputs": [
    {
     "name": "stdout",
     "output_type": "stream",
     "text": [
      "Random Images of German Traffic Signs taken from Google Maps Streetview screenshots\n"
     ]
    },
    {
     "data": {
      "image/png": "[encoded data removed]",
      "text/plain": [
       "<matplotlib.figure.Figure at 0x7f0cf6149cf8>"
      ]
     },
     "metadata": {},
     "output_type": "display_data"
    }
   ],
   "source": [
    "fig, ((ax1,ax2,ax3,ax4,ax5)) = plt.subplots(1,5, figsize = (16,16))\n",
    "print('Random Images of German Traffic Signs taken from Google Maps Streetview screenshots')\n",
    "im1 = ax1.imshow(X_custom[0])\n",
    "ax1.set_title('Class {}: {}'.format(y_custom[0], signkey.loc[y_custom[0], 'SignName']))\n",
    "im2 = ax2.imshow(X_custom[1])\n",
    "ax2.set_title('Class {}: {}'.format(y_custom[1], signkey.loc[y_custom[1], 'SignName']))\n",
    "im3 = ax3.imshow(X_custom[2])\n",
    "ax3.set_title('Class {}: {}'.format(y_custom[2], signkey.loc[y_custom[2], 'SignName']))\n",
    "im4 = ax4.imshow(X_custom[3])\n",
    "ax4.set_title('Class {}: {}'.format(y_custom[3], signkey.loc[y_custom[3], 'SignName']))\n",
    "im5 = ax5.imshow(X_custom[4])\n",
    "ax5.set_title('Class {}: {}'.format(y_custom[4], signkey.loc[y_custom[4], 'SignName']))\n",
    "\n",
    "plt.show()"
   ]
  },
  {
   "cell_type": "markdown",
   "metadata": {
    "deletable": true,
    "editable": true
   },
   "source": [
    "### Predict the Sign Type for Each Image"
   ]
  },
  {
   "cell_type": "code",
   "execution_count": 129,
   "metadata": {
    "collapsed": false,
    "deletable": true,
    "editable": true
   },
   "outputs": [
    {
     "name": "stdout",
     "output_type": "stream",
     "text": [
      "5 images preprocessed in 0.0784459114074707s\n"
     ]
    },
    {
     "name": "stderr",
     "output_type": "stream",
     "text": [
      "/home/carnd/anaconda3/envs/carnd-term1/lib/python3.5/site-packages/skimage/util/dtype.py:110: UserWarning: Possible precision loss when converting from float64 to uint8\n",
      "  \"%s to %s\" % (dtypeobj_in, dtypeobj))\n"
     ]
    }
   ],
   "source": [
    "### Run the predictions here and use the model to output the prediction for each image.\n",
    "### Make sure to pre-process the images with the same pre-processing pipeline used earlier.\n",
    "### Feel free to use as many code cells as needed.\n",
    "X_custom_processed = preprocessing(X_custom, contrast_mode = 'adapt', scale = False)\n",
    "X_custom_processed = (X_custom_processed-128)/128\n"
   ]
  },
  {
   "cell_type": "code",
   "execution_count": 130,
   "metadata": {
    "collapsed": false,
    "deletable": true,
    "editable": true
   },
   "outputs": [
    {
     "name": "stdout",
     "output_type": "stream",
     "text": [
      "Random Images of German Traffic Signs taken from Google Maps Streetview screenshots\n"
     ]
    },
    {
     "data": {
      "image/png": "[encoded data removed]",
      "text/plain": [
       "<matplotlib.figure.Figure at 0x7f0cf6002c88>"
      ]
     },
     "metadata": {},
     "output_type": "display_data"
    }
   ],
   "source": [
    "with tf.Session() as sess:\n",
    "    saver.restore(sess, './lesermanet')\n",
    "\n",
    "    logits_custom = sess.run(logits, feed_dict = {x: X_custom_processed, y: y_custom})\n",
    "\n",
    "y_hat_custom = np.argmax(logits_custom, axis = 1)\n",
    "\n",
    "fig, ((ax1,ax2,ax3,ax4,ax5)) = plt.subplots(1,5, figsize = (16,16))\n",
    "print('Random Images of German Traffic Signs taken from Google Maps Streetview screenshots')\n",
    "im1 = ax1.imshow(X_custom[0])\n",
    "ax1.set_title('Class {}: {} \\n Predicted - \\n Class {}: {}'.format(y_custom[0], signkey.loc[y_custom[0], 'SignName'], y_hat_custom[0], signkey.loc[y_hat_custom[0], 'SignName']))\n",
    "im2 = ax2.imshow(X_custom[1])\n",
    "ax2.set_title('Class {}: {} \\n Predicted - \\n Class {}: {}'.format(y_custom[1], signkey.loc[y_custom[1], 'SignName'], y_hat_custom[1], signkey.loc[y_hat_custom[1], 'SignName']))\n",
    "im3 = ax3.imshow(X_custom[2])\n",
    "ax3.set_title('Class {}: {} \\n Predicted - \\n Class {}: {}'.format(y_custom[2], signkey.loc[y_custom[2], 'SignName'], y_hat_custom[2], signkey.loc[y_hat_custom[2], 'SignName']))\n",
    "im4 = ax4.imshow(X_custom[3])\n",
    "ax4.set_title('Class {}: {} \\n Predicted - \\n Class {}: {}'.format(y_custom[3], signkey.loc[y_custom[3], 'SignName'], y_hat_custom[3], signkey.loc[y_hat_custom[3], 'SignName']))\n",
    "im5 = ax5.imshow(X_custom[4])\n",
    "ax5.set_title('Class {}: {} \\n Predicted - \\n Class {}: {}'.format(y_custom[4], signkey.loc[y_custom[4], 'SignName'], y_hat_custom[4], signkey.loc[y_hat_custom[4], 'SignName']))\n",
    "\n",
    "plt.show()\n"
   ]
  },
  {
   "cell_type": "markdown",
   "metadata": {
    "deletable": true,
    "editable": true
   },
   "source": [
    "### Analyze Performance"
   ]
  },
  {
   "cell_type": "code",
   "execution_count": 131,
   "metadata": {
    "collapsed": false,
    "deletable": true,
    "editable": true
   },
   "outputs": [
    {
     "name": "stdout",
     "output_type": "stream",
     "text": [
      "Accuracy for custom images is 80.0%\n"
     ]
    }
   ],
   "source": [
    "### Calculate the accuracy for these 5 new images. \n",
    "### For example, if the model predicted 1 out of 5 signs correctly, it's 20% accurate on these new images.\n",
    "\n",
    "accuracy_custom = np.mean([x==y for (x,y) in zip(y_custom, y_hat_custom)])\n",
    "\n",
    "print('Accuracy for custom images is {:.1%}'.format(accuracy_custom))"
   ]
  },
  {
   "cell_type": "markdown",
   "metadata": {
    "deletable": true,
    "editable": true
   },
   "source": [
    "### Output Top 5 Softmax Probabilities For Each Image Found on the Web"
   ]
  },
  {
   "cell_type": "code",
   "execution_count": 132,
   "metadata": {
    "collapsed": false,
    "deletable": true,
    "editable": true
   },
   "outputs": [
    {
     "name": "stdout",
     "output_type": "stream",
     "text": [
      "TopKV2(values=array([[  1.00000000e+00,   4.52753007e-17,   3.15670088e-17,\n",
      "          1.82112994e-18,   1.31025732e-19],\n",
      "       [  1.00000000e+00,   5.46953975e-14,   1.30114743e-15,\n",
      "          8.29098666e-16,   5.05730550e-16],\n",
      "       [  1.00000000e+00,   4.08532291e-10,   5.74981889e-15,\n",
      "          1.00787615e-18,   1.19997177e-20],\n",
      "       [  1.00000000e+00,   2.69226100e-11,   1.22794652e-15,\n",
      "          5.60402715e-16,   4.83094323e-17],\n",
      "       [  9.59983289e-01,   3.87624055e-02,   5.75257640e-04,\n",
      "          4.65780497e-04,   7.42464399e-05]], dtype=float32), indices=array([[12, 13, 38, 32, 34],\n",
      "       [38, 40, 17, 10,  7],\n",
      "       [18, 26, 27, 24, 11],\n",
      "       [17, 14, 39, 12, 33],\n",
      "       [ 0,  1,  4, 19,  7]], dtype=int32))\n"
     ]
    }
   ],
   "source": [
    "### Print out the top five softmax probabilities for the predictions on the German traffic sign images found on the web. \n",
    "### Feel free to use as many code cells as needed.\n",
    "\n",
    "def softmax(logits):\n",
    "    softmax_probs = np.exp(logits)/np.sum(np.exp(logits), axis = 1, keepdims = True)\n",
    "    return softmax_probs\n",
    "    \n",
    "softmax_probs = softmax(logits_custom)\n",
    "\n",
    "with tf.Session() as sess:\n",
    "    top_5_probs = sess.run(tf.nn.top_k(tf.constant(softmax_probs), k=5))\n",
    "    \n",
    "for i in range(top_5_probs[0].shape[0]):\n",
    "    custom_prob_dict = {'Probability': top_5_probs[0][i], 'Class':top_5_probs[1][i].astype(np.uint8)}\n",
    "    custom_i_df = pd.DataFrame(custom_prob_dict)\n",
    "    custom_i_df = custom_i_df.round(4)\n",
    "    custom_i_df['Class Name'] = list(signkey.loc[list(custom_i_df.loc[:,'Class']), 'SignName'])\n",
    "    print('Actual Class for Sign - {}: {}'.format(y_custom[i], signkey.loc[y_custom[i], 'SignName']))\n",
    "    print(custom_i_df)\n",
    "    print('\\n')\n",
    "\n",
    "    "
   ]
  },
  {
   "cell_type": "markdown",
   "metadata": {
    "deletable": true,
    "editable": true
   },
   "source": [
    "### Project Writeup\n",
    "\n",
    "Once you have completed the code implementation, document your results in a project writeup using this [template](https://github.com/udacity/CarND-Traffic-Sign-Classifier-Project/blob/master/writeup_template.md) as a guide. The writeup can be in a markdown or pdf file. "
   ]
  },
  {
   "cell_type": "markdown",
   "metadata": {
    "deletable": true,
    "editable": true
   },
   "source": [
    "> **Note**: Once you have completed all of the code implementations and successfully answered each question above, you may finalize your work by exporting the iPython Notebook as an HTML document. You can do this by using the menu above and navigating to  \\n\",\n",
    "    \"**File -> Download as -> HTML (.html)**. Include the finished document along with this notebook as your submission."
   ]
  },
  {
   "cell_type": "markdown",
   "metadata": {
    "deletable": true,
    "editable": true
   },
   "source": [
    "---\n",
    "\n",
    "## Step 4 (Optional): Visualize the Neural Network's State with Test Images\n",
    "\n",
    " This Section is not required to complete but acts as an additional excersise for understaning the output of a neural network's weights. While neural networks can be a great learning device they are often referred to as a black box. We can understand what the weights of a neural network look like better by plotting their feature maps. After successfully training your neural network you can see what it's feature maps look like by plotting the output of the network's weight layers in response to a test stimuli image. From these plotted feature maps, it's possible to see what characteristics of an image the network finds interesting. For a sign, maybe the inner network feature maps react with high activation to the sign's boundary outline or to the contrast in the sign's painted symbol.\n",
    "\n",
    " Provided for you below is the function code that allows you to get the visualization output of any tensorflow weight layer you want. The inputs to the function should be a stimuli image, one used during training or a new one you provided, and then the tensorflow variable name that represents the layer's state during the training process, for instance if you wanted to see what the [LeNet lab's](https://classroom.udacity.com/nanodegrees/nd013/parts/fbf77062-5703-404e-b60c-95b78b2f3f9e/modules/6df7ae49-c61c-4bb2-a23e-6527e69209ec/lessons/601ae704-1035-4287-8b11-e2c2716217ad/concepts/d4aca031-508f-4e0b-b493-e7b706120f81) feature maps looked like for it's second convolutional layer you could enter conv2 as the tf_activation variable.\n",
    "\n",
    "For an example of what feature map outputs look like, check out NVIDIA's results in their paper [End-to-End Deep Learning for Self-Driving Cars](https://devblogs.nvidia.com/parallelforall/deep-learning-self-driving-cars/) in the section Visualization of internal CNN State. NVIDIA was able to show that their network's inner weights had high activations to road boundary lines by comparing feature maps from an image with a clear path to one without. Try experimenting with a similar test to show that your trained network's weights are looking for interesting features, whether it's looking at differences in feature maps from images with or without a sign, or even what feature maps look like in a trained network vs a completely untrained one on the same sign image.\n",
    "\n",
    "<figure>\n",
    " <img src=\"visualize_cnn.png\" width=\"380\" alt=\"Combined Image\" />\n",
    " <figcaption>\n",
    " <p></p> \n",
    " <p style=\"text-align: center;\"> Your output should look something like this (above)</p> \n",
    " </figcaption>\n",
    "</figure>\n",
    " <p></p> \n"
   ]
  },
  {
   "cell_type": "code",
   "execution_count": null,
   "metadata": {
    "collapsed": true,
    "deletable": true,
    "editable": true
   },
   "outputs": [],
   "source": [
    "### Visualize your network's feature maps here.\n",
    "### Feel free to use as many code cells as needed.\n",
    "\n",
    "# image_input: the test image being fed into the network to produce the feature maps\n",
    "# tf_activation: should be a tf variable name used during your training procedure that represents the calculated state of a specific weight layer\n",
    "# activation_min/max: can be used to view the activation contrast in more detail, by default matplot sets min and max to the actual min and max values of the output\n",
    "# plt_num: used to plot out multiple different weight feature map sets on the same block, just extend the plt number for each new feature map entry\n",
    "\n",
    "def outputFeatureMap(image_input, tf_activation, activation_min=-1, activation_max=-1 ,plt_num=1):\n",
    "    # Here make sure to preprocess your image_input in a way your network expects\n",
    "    # with size, normalization, ect if needed\n",
    "    # image_input =\n",
    "    # Note: x should be the same name as your network's tensorflow data placeholder variable\n",
    "    # If you get an error tf_activation is not defined it may be having trouble accessing the variable from inside a function\n",
    "    activation = tf_activation.eval(session=sess,feed_dict={x : image_input})\n",
    "    featuremaps = activation.shape[3]\n",
    "    plt.figure(plt_num, figsize=(15,15))\n",
    "    for featuremap in range(featuremaps):\n",
    "        plt.subplot(6,8, featuremap+1) # sets the number of feature maps to show on each row and column\n",
    "        plt.title('FeatureMap ' + str(featuremap)) # displays the feature map number\n",
    "        if activation_min != -1 & activation_max != -1:\n",
    "            plt.imshow(activation[0,:,:, featuremap], interpolation=\"nearest\", vmin =activation_min, vmax=activation_max, cmap=\"gray\")\n",
    "        elif activation_max != -1:\n",
    "            plt.imshow(activation[0,:,:, featuremap], interpolation=\"nearest\", vmax=activation_max, cmap=\"gray\")\n",
    "        elif activation_min !=-1:\n",
    "            plt.imshow(activation[0,:,:, featuremap], interpolation=\"nearest\", vmin=activation_min, cmap=\"gray\")\n",
    "        else:\n",
    "            plt.imshow(activation[0,:,:, featuremap], interpolation=\"nearest\", cmap=\"gray\")"
   ]
  }
 ],
 "metadata": {
  "anaconda-cloud": {},
  "kernelspec": {
   "display_name": "Python 3",
   "language": "python",
   "name": "python3"
  },
  "language_info": {
   "codemirror_mode": {
    "name": "ipython",
    "version": 3
   },
   "file_extension": ".py",
   "mimetype": "text/x-python",
   "name": "python",
   "nbconvert_exporter": "python",
   "pygments_lexer": "ipython3",
   "version": "3.5.2"
  },
  "widgets": {
   "state": {},
   "version": "1.1.2"
  }
 },
 "nbformat": 4,
 "nbformat_minor": 1
}
