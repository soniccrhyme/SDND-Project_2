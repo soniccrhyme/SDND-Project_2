{
 "cells": [
  {
   "cell_type": "markdown",
   "metadata": {
    "deletable": true,
    "editable": true
   },
   "source": [
    "# Self-Driving Car Engineer Nanodegree\n",
    "\n",
    "## A Traffic Sign Recognition Classifier using Convolutional Neural Nets\n",
    "\n",
    "Victor Roy\n",
    "\n",
    "May 2, 2017"
   ]
  },
  {
   "cell_type": "code",
   "execution_count": 1,
   "metadata": {
    "collapsed": false,
    "deletable": true,
    "editable": true
   },
   "outputs": [],
   "source": [
    "import matplotlib.pyplot as plt\n",
    "%matplotlib inline\n",
    "import numpy as np\n",
    "import pandas as pd\n",
    "import pickle, time, os\n",
    "\n",
    "import tensorflow as tf\n",
    "from tensorflow.contrib.layers import flatten\n",
    "from sklearn.utils import shuffle\n",
    "from sklearn.preprocessing import normalize\n",
    "\n",
    "\n",
    "from skimage.exposure import equalize_adapthist, equalize_hist, rescale_intensity\n",
    "from skimage.color import rgb2gray\n",
    "from skimage import img_as_ubyte, img_as_float\n",
    "from skimage.io import imread\n",
    "\n",
    "from skimage.transform import warp, rotate, resize\n",
    "from skimage.transform import AffineTransform\n",
    "from skimage.exposure import adjust_gamma"
   ]
  },
  {
   "cell_type": "code",
   "execution_count": 2,
   "metadata": {
    "collapsed": false,
    "deletable": true,
    "editable": true
   },
   "outputs": [],
   "source": [
    "# UTILITIES\n",
    "\n",
    "# Load Data\n",
    "def load_data(data_version, test = True):\n",
    "    file_name = data_version+'.npz'\n",
    "    if data_version == 'train':\n",
    "        data = np.load('train.p')\n",
    "        X = data['features']\n",
    "        y = data['labels']\n",
    "        return X,y\n",
    "    elif data_version == 'valid':\n",
    "        data = np.load('valid.p')\n",
    "        X = data['features']\n",
    "        y = data['labels']\n",
    "        return X,y\n",
    "    elif data_version == 'test':\n",
    "        data = np.load('test.p')\n",
    "        X = data['features']\n",
    "        y = data['labels']\n",
    "        return X,y\n",
    "    else:\n",
    "        if test == True:\n",
    "            data = np.load(file_name)\n",
    "            X = data['X']\n",
    "            y = data['y']\n",
    "            return X,y\n",
    "        else:\n",
    "            data = np.load(file_name)\n",
    "            X = data['X']\n",
    "            return X\n",
    "\n",
    "        \n",
    "def save_data(X, y=None, data_version = ''):\n",
    "    if data_version.lower() == 'extended':\n",
    "        file = 'extended.npz'\n",
    "    elif data_version.lower() == 'processed':\n",
    "        file = 'processed.npz'\n",
    "    elif data_version != '':\n",
    "        file = data_version+'.npz'\n",
    "    else:\n",
    "        raise(IOError('improper data_version argument'))\n",
    "    if y:\n",
    "        np.savez_compressed(file, X=X, y=y)\n",
    "    else:\n",
    "        np.savez_compressed(file, X=X)\n",
    "    print('Data saved to {}'.format(file+'.npz'))\n",
    "    return\n",
    "    "
   ]
  },
  {
   "cell_type": "markdown",
   "metadata": {
    "deletable": true,
    "editable": true
   },
   "source": [
    "---\n",
    "## Step 0: Load The Data"
   ]
  },
  {
   "cell_type": "code",
   "execution_count": 3,
   "metadata": {
    "collapsed": false,
    "deletable": true,
    "editable": true
   },
   "outputs": [],
   "source": [
    "X_train, y_train = load_data('train', test = True)\n",
    "X_valid, y_valid = load_data('valid', test = True)\n",
    "X_test, y_test = load_data('test', test = True)\n",
    "signkey = pd.read_csv('signnames.csv', index_col = 0)"
   ]
  },
  {
   "cell_type": "markdown",
   "metadata": {
    "deletable": true,
    "editable": true
   },
   "source": [
    "---\n",
    "\n",
    "## Step 1: Dataset Summary & Exploration"
   ]
  },
  {
   "cell_type": "markdown",
   "metadata": {
    "deletable": true,
    "editable": true
   },
   "source": [
    "### Basic Summary of the Data Set Using Python, Numpy and/or Pandas"
   ]
  },
  {
   "cell_type": "code",
   "execution_count": 4,
   "metadata": {
    "collapsed": false,
    "deletable": true,
    "editable": true
   },
   "outputs": [
    {
     "name": "stdout",
     "output_type": "stream",
     "text": [
      "Number of training examples = 34799\n",
      "Number of validation examples = 4410\n",
      "Number of testing examples = 12630\n",
      "Image data shape = (32, 32, 3)\n",
      "Number of classes = 43\n"
     ]
    }
   ],
   "source": [
    "### Replace each question mark with the appropriate value. \n",
    "### Use python, pandas or numpy methods rather than hard coding the results\n",
    "\n",
    "# TODO: Number of training examples\n",
    "n_train = len(X_train)\n",
    "\n",
    "# TODO: Number of validation examples\n",
    "n_validation = len(X_valid)\n",
    "\n",
    "# TODO: Number of testing examples.\n",
    "n_test = len(X_test)\n",
    "\n",
    "# TODO: What's the shape of an traffic sign image?\n",
    "image_shape = X_train[0].shape\n",
    "\n",
    "# TODO: How many unique classes/labels there are in the dataset.\n",
    "n_classes = len(set(y_train))\n",
    "\n",
    "print(\"Number of training examples =\", n_train)\n",
    "print(\"Number of validation examples =\", n_validation)\n",
    "print(\"Number of testing examples =\", n_test)\n",
    "print(\"Image data shape =\", image_shape)\n",
    "print(\"Number of classes =\", n_classes)"
   ]
  },
  {
   "cell_type": "markdown",
   "metadata": {
    "deletable": true,
    "editable": true
   },
   "source": [
    "### Include an exploratory visualization of the dataset"
   ]
  },
  {
   "cell_type": "code",
   "execution_count": 5,
   "metadata": {
    "collapsed": false,
    "deletable": true,
    "editable": true
   },
   "outputs": [
    {
     "data": {
      "text/html": [
       "<div>\n",
       "<table border=\"1\" class=\"dataframe\">\n",
       "  <thead>\n",
       "    <tr style=\"text-align: right;\">\n",
       "      <th></th>\n",
       "      <th>SignName</th>\n",
       "      <th>Count in Train</th>\n",
       "    </tr>\n",
       "    <tr>\n",
       "      <th>ClassId</th>\n",
       "      <th></th>\n",
       "      <th></th>\n",
       "    </tr>\n",
       "  </thead>\n",
       "  <tbody>\n",
       "    <tr>\n",
       "      <th>0</th>\n",
       "      <td>Speed limit (20km/h)</td>\n",
       "      <td>180</td>\n",
       "    </tr>\n",
       "    <tr>\n",
       "      <th>1</th>\n",
       "      <td>Speed limit (30km/h)</td>\n",
       "      <td>1980</td>\n",
       "    </tr>\n",
       "    <tr>\n",
       "      <th>2</th>\n",
       "      <td>Speed limit (50km/h)</td>\n",
       "      <td>2010</td>\n",
       "    </tr>\n",
       "    <tr>\n",
       "      <th>3</th>\n",
       "      <td>Speed limit (60km/h)</td>\n",
       "      <td>1260</td>\n",
       "    </tr>\n",
       "    <tr>\n",
       "      <th>4</th>\n",
       "      <td>Speed limit (70km/h)</td>\n",
       "      <td>1770</td>\n",
       "    </tr>\n",
       "    <tr>\n",
       "      <th>5</th>\n",
       "      <td>Speed limit (80km/h)</td>\n",
       "      <td>1650</td>\n",
       "    </tr>\n",
       "    <tr>\n",
       "      <th>6</th>\n",
       "      <td>End of speed limit (80km/h)</td>\n",
       "      <td>360</td>\n",
       "    </tr>\n",
       "    <tr>\n",
       "      <th>7</th>\n",
       "      <td>Speed limit (100km/h)</td>\n",
       "      <td>1290</td>\n",
       "    </tr>\n",
       "    <tr>\n",
       "      <th>8</th>\n",
       "      <td>Speed limit (120km/h)</td>\n",
       "      <td>1260</td>\n",
       "    </tr>\n",
       "    <tr>\n",
       "      <th>9</th>\n",
       "      <td>No passing</td>\n",
       "      <td>1320</td>\n",
       "    </tr>\n",
       "    <tr>\n",
       "      <th>10</th>\n",
       "      <td>No passing for vehicles over 3.5 metric tons</td>\n",
       "      <td>1800</td>\n",
       "    </tr>\n",
       "    <tr>\n",
       "      <th>11</th>\n",
       "      <td>Right-of-way at the next intersection</td>\n",
       "      <td>1170</td>\n",
       "    </tr>\n",
       "    <tr>\n",
       "      <th>12</th>\n",
       "      <td>Priority road</td>\n",
       "      <td>1890</td>\n",
       "    </tr>\n",
       "    <tr>\n",
       "      <th>13</th>\n",
       "      <td>Yield</td>\n",
       "      <td>1920</td>\n",
       "    </tr>\n",
       "    <tr>\n",
       "      <th>14</th>\n",
       "      <td>Stop</td>\n",
       "      <td>690</td>\n",
       "    </tr>\n",
       "    <tr>\n",
       "      <th>15</th>\n",
       "      <td>No vehicles</td>\n",
       "      <td>540</td>\n",
       "    </tr>\n",
       "    <tr>\n",
       "      <th>16</th>\n",
       "      <td>Vehicles over 3.5 metric tons prohibited</td>\n",
       "      <td>360</td>\n",
       "    </tr>\n",
       "    <tr>\n",
       "      <th>17</th>\n",
       "      <td>No entry</td>\n",
       "      <td>990</td>\n",
       "    </tr>\n",
       "    <tr>\n",
       "      <th>18</th>\n",
       "      <td>General caution</td>\n",
       "      <td>1080</td>\n",
       "    </tr>\n",
       "    <tr>\n",
       "      <th>19</th>\n",
       "      <td>Dangerous curve to the left</td>\n",
       "      <td>180</td>\n",
       "    </tr>\n",
       "    <tr>\n",
       "      <th>20</th>\n",
       "      <td>Dangerous curve to the right</td>\n",
       "      <td>300</td>\n",
       "    </tr>\n",
       "    <tr>\n",
       "      <th>21</th>\n",
       "      <td>Double curve</td>\n",
       "      <td>270</td>\n",
       "    </tr>\n",
       "    <tr>\n",
       "      <th>22</th>\n",
       "      <td>Bumpy road</td>\n",
       "      <td>330</td>\n",
       "    </tr>\n",
       "    <tr>\n",
       "      <th>23</th>\n",
       "      <td>Slippery road</td>\n",
       "      <td>450</td>\n",
       "    </tr>\n",
       "    <tr>\n",
       "      <th>24</th>\n",
       "      <td>Road narrows on the right</td>\n",
       "      <td>240</td>\n",
       "    </tr>\n",
       "    <tr>\n",
       "      <th>25</th>\n",
       "      <td>Road work</td>\n",
       "      <td>1350</td>\n",
       "    </tr>\n",
       "    <tr>\n",
       "      <th>26</th>\n",
       "      <td>Traffic signals</td>\n",
       "      <td>540</td>\n",
       "    </tr>\n",
       "    <tr>\n",
       "      <th>27</th>\n",
       "      <td>Pedestrians</td>\n",
       "      <td>210</td>\n",
       "    </tr>\n",
       "    <tr>\n",
       "      <th>28</th>\n",
       "      <td>Children crossing</td>\n",
       "      <td>480</td>\n",
       "    </tr>\n",
       "    <tr>\n",
       "      <th>29</th>\n",
       "      <td>Bicycles crossing</td>\n",
       "      <td>240</td>\n",
       "    </tr>\n",
       "    <tr>\n",
       "      <th>30</th>\n",
       "      <td>Beware of ice/snow</td>\n",
       "      <td>390</td>\n",
       "    </tr>\n",
       "    <tr>\n",
       "      <th>31</th>\n",
       "      <td>Wild animals crossing</td>\n",
       "      <td>690</td>\n",
       "    </tr>\n",
       "    <tr>\n",
       "      <th>32</th>\n",
       "      <td>End of all speed and passing limits</td>\n",
       "      <td>210</td>\n",
       "    </tr>\n",
       "    <tr>\n",
       "      <th>33</th>\n",
       "      <td>Turn right ahead</td>\n",
       "      <td>599</td>\n",
       "    </tr>\n",
       "    <tr>\n",
       "      <th>34</th>\n",
       "      <td>Turn left ahead</td>\n",
       "      <td>360</td>\n",
       "    </tr>\n",
       "    <tr>\n",
       "      <th>35</th>\n",
       "      <td>Ahead only</td>\n",
       "      <td>1080</td>\n",
       "    </tr>\n",
       "    <tr>\n",
       "      <th>36</th>\n",
       "      <td>Go straight or right</td>\n",
       "      <td>330</td>\n",
       "    </tr>\n",
       "    <tr>\n",
       "      <th>37</th>\n",
       "      <td>Go straight or left</td>\n",
       "      <td>180</td>\n",
       "    </tr>\n",
       "    <tr>\n",
       "      <th>38</th>\n",
       "      <td>Keep right</td>\n",
       "      <td>1860</td>\n",
       "    </tr>\n",
       "    <tr>\n",
       "      <th>39</th>\n",
       "      <td>Keep left</td>\n",
       "      <td>270</td>\n",
       "    </tr>\n",
       "    <tr>\n",
       "      <th>40</th>\n",
       "      <td>Roundabout mandatory</td>\n",
       "      <td>300</td>\n",
       "    </tr>\n",
       "    <tr>\n",
       "      <th>41</th>\n",
       "      <td>End of no passing</td>\n",
       "      <td>210</td>\n",
       "    </tr>\n",
       "    <tr>\n",
       "      <th>42</th>\n",
       "      <td>End of no passing by vehicles over 3.5 metric ...</td>\n",
       "      <td>210</td>\n",
       "    </tr>\n",
       "  </tbody>\n",
       "</table>\n",
       "</div>"
      ],
      "text/plain": [
       "                                                  SignName  Count in Train\n",
       "ClassId                                                                   \n",
       "0                                     Speed limit (20km/h)             180\n",
       "1                                     Speed limit (30km/h)            1980\n",
       "2                                     Speed limit (50km/h)            2010\n",
       "3                                     Speed limit (60km/h)            1260\n",
       "4                                     Speed limit (70km/h)            1770\n",
       "5                                     Speed limit (80km/h)            1650\n",
       "6                              End of speed limit (80km/h)             360\n",
       "7                                    Speed limit (100km/h)            1290\n",
       "8                                    Speed limit (120km/h)            1260\n",
       "9                                               No passing            1320\n",
       "10            No passing for vehicles over 3.5 metric tons            1800\n",
       "11                   Right-of-way at the next intersection            1170\n",
       "12                                           Priority road            1890\n",
       "13                                                   Yield            1920\n",
       "14                                                    Stop             690\n",
       "15                                             No vehicles             540\n",
       "16                Vehicles over 3.5 metric tons prohibited             360\n",
       "17                                                No entry             990\n",
       "18                                         General caution            1080\n",
       "19                             Dangerous curve to the left             180\n",
       "20                            Dangerous curve to the right             300\n",
       "21                                            Double curve             270\n",
       "22                                              Bumpy road             330\n",
       "23                                           Slippery road             450\n",
       "24                               Road narrows on the right             240\n",
       "25                                               Road work            1350\n",
       "26                                         Traffic signals             540\n",
       "27                                             Pedestrians             210\n",
       "28                                       Children crossing             480\n",
       "29                                       Bicycles crossing             240\n",
       "30                                      Beware of ice/snow             390\n",
       "31                                   Wild animals crossing             690\n",
       "32                     End of all speed and passing limits             210\n",
       "33                                        Turn right ahead             599\n",
       "34                                         Turn left ahead             360\n",
       "35                                              Ahead only            1080\n",
       "36                                    Go straight or right             330\n",
       "37                                     Go straight or left             180\n",
       "38                                              Keep right            1860\n",
       "39                                               Keep left             270\n",
       "40                                    Roundabout mandatory             300\n",
       "41                                       End of no passing             210\n",
       "42       End of no passing by vehicles over 3.5 metric ...             210"
      ]
     },
     "execution_count": 5,
     "metadata": {},
     "output_type": "execute_result"
    }
   ],
   "source": [
    "y_train_df = pd.Series(y_train)\n",
    "value_counts = pd.DataFrame(y_train_df.value_counts(), columns = ['Count in Train'])\n",
    "value_counts.sort_index(inplace = True)\n",
    "signkey['Count in Train'] = value_counts['Count in Train']\n",
    "del value_counts\n",
    "signkey"
   ]
  },
  {
   "cell_type": "code",
   "execution_count": 6,
   "metadata": {
    "collapsed": false,
    "deletable": true,
    "editable": true
   },
   "outputs": [
    {
     "data": {
      "text/plain": [
       "<function matplotlib.pyplot.show>"
      ]
     },
     "execution_count": 6,
     "metadata": {},
     "output_type": "execute_result"
    },
    {
     "data": {
      "image/png": "[encoded data removed]",
      "text/plain": [
       "<matplotlib.figure.Figure at 0x7f1214538be0>"
      ]
     },
     "metadata": {},
     "output_type": "display_data"
    }
   ],
   "source": [
    "plt.boxplot(signkey['Count in Train'])\n",
    "plt.suptitle('Distribution of Class Counts in Train', fontweight = 'bold')\n",
    "plt.savefig('graphics/train-count_boxplot')\n",
    "plt.show"
   ]
  },
  {
   "cell_type": "code",
   "execution_count": 7,
   "metadata": {
    "collapsed": false,
    "deletable": true,
    "editable": true
   },
   "outputs": [
    {
     "data": {
      "image/png": "[encoded data removed]",
      "text/plain": [
       "<matplotlib.figure.Figure at 0x7f1171d0fa58>"
      ]
     },
     "metadata": {},
     "output_type": "display_data"
    }
   ],
   "source": [
    "plt.close('all')\n",
    "fig, ((ax1,ax2),(ax3,ax4)) = plt.subplots(2,2, figsize = (10,10))\n",
    "rand_index = np.random.choice(np.arange(n_train),4)\n",
    "im1 = ax1.imshow(X_train[rand_index[0]])\n",
    "ax1.set_title(signkey.loc[y_train[rand_index[0]],'SignName'])\n",
    "im2 = ax2.imshow(X_train[rand_index[1]])\n",
    "ax2.set_title(signkey.loc[y_train[rand_index[1]],'SignName'])\n",
    "im3 = ax3.imshow(X_train[rand_index[2]])\n",
    "ax3.set_title(signkey.loc[y_train[rand_index[2]],'SignName'])\n",
    "im4 = ax4.imshow(X_train[rand_index[3]])\n",
    "ax4.set_title(signkey.loc[y_train[rand_index[3]],'SignName'])\n",
    "\n",
    "fig.suptitle('Some Arbitrary Train Images and their Respective Class', fontweight = 'bold')\n",
    "plt.savefig('graphics/rand-images')"
   ]
  },
  {
   "cell_type": "markdown",
   "metadata": {
    "deletable": true,
    "editable": true
   },
   "source": [
    "----\n",
    "\n",
    "## Step 2: Design and Test a Model Architecture"
   ]
  },
  {
   "cell_type": "markdown",
   "metadata": {
    "deletable": true,
    "editable": true
   },
   "source": [
    "### Data Augmentation & Preprocessing"
   ]
  },
  {
   "cell_type": "code",
   "execution_count": 8,
   "metadata": {
    "collapsed": true,
    "deletable": true,
    "editable": true
   },
   "outputs": [],
   "source": [
    "# Methods for augmenting the data\n",
    "\n",
    "# Randomly add a scale, rotation and brightness factor to each image\n",
    "def extend_perturb(X, y):\n",
    "    \n",
    "    X_ext = np.ndarray([0, X.shape[1], X.shape[2], X.shape[3]])\n",
    "    y_ext = np.ndarray([0])\n",
    "    n_samples_og = X.shape[0]\n",
    "    \n",
    "    num_classes = 43\n",
    "    start = time.time()\n",
    "    \n",
    "    for c in range(num_classes):\n",
    "        X_c = np.ndarray([0, X.shape[1], X.shape[2], X.shape[3]])\n",
    "            \n",
    "        for img in X[y==c]:\n",
    "            n = int(max([np.ceil(2000/signkey.loc[c,'Count in Train'])-1, 2]))\n",
    "            for j in range(n):\n",
    "                rotation_param = np.random.uniform(-np.pi/18., np.pi/18.)\n",
    "                scale_param = np.random.uniform(.9, 1.1, 2)\n",
    "                translation_param = tuple(np.random.choice(np.arange(-2,2), 2))\n",
    "                gamma_param = np.random.uniform(.75, 1.25)\n",
    "\n",
    "\n",
    "                tform = AffineTransform(rotation = rotation_param, translation =translation_param, scale = scale_param)\n",
    "                img_warp = adjust_gamma(img_as_ubyte(warp(img, tform, mode = 'edge', preserve_range = False)), gamma = gamma_param).astype(np.uint8)\n",
    "                \n",
    "                X_c = np.append(X_c, [img_warp], axis = 0)\n",
    "                y_ext = np.append(y_ext, [c], axis = 0)\n",
    "        X_ext = np.append(X_ext, X_c, axis = 0)\n",
    "            \n",
    "        loop_time = time.time()-start\n",
    "        n_samples_ext = X_ext.shape[0]\n",
    "        print('{} classes completed; {} perturbed images added in {}s'.format(c+1, n_samples_ext, loop_time))\n",
    "        \n",
    "    X_ext = np.append(X, X_ext, axis = 0)\n",
    "    y_ext = np.append(y, y_ext, axis = 0)\n",
    "    \n",
    "    return X_ext, y_ext\n",
    "    \n",
    "    \n",
    "# Extend dataset by flipping images along their vertical and/or horizontal axes\n",
    "def extend_flip(X, y):\n",
    "\n",
    "    # Classes of signs that, when flipped horizontally, should still be classified as the same class\n",
    "    self_flippable_horizontally = np.array([11, 12, 13, 15, 17, 18, 22, 26, 30, 35])\n",
    "    \n",
    "    # Classes of signs that, when flipped vertically, should still be classified as the same class\n",
    "    self_flippable_vertically = np.array([1, 5, 12, 15, 17])\n",
    "    \n",
    "    # Classes of signs that, when flipped horizontally and then vertically, should still be classified as the same class\n",
    "    self_flippable_both = np.array([32, 40])\n",
    "    \n",
    "    # Classes of signs that, when flipped horizontally, would still be meaningful, but should be classified as some other class\n",
    "    cross_flippable = np.array([\n",
    "        [19, 20],\n",
    "        [33, 34],\n",
    "        [36, 37],\n",
    "        [38, 39],\n",
    "        [20, 19],\n",
    "        [34, 33],\n",
    "        [37, 36],\n",
    "        [39, 38],\n",
    "    ])\n",
    "    num_classes = 43\n",
    "\n",
    "    X_ext = X\n",
    "    y_ext = y\n",
    "    \n",
    "    for c in range(num_classes):\n",
    "        c_size = X[y==c].shape[0]\n",
    "        \n",
    "        # if in self_flippable_horizontally\n",
    "        if c in self_flippable_horizontally: \n",
    "            X_ext = np.append(X_ext, X[y==c][:,:,::-1, :], axis = 0)\n",
    "            y_ext = np.append(y_ext, [c for i in np.ndarray([c_size])], axis = 0)\n",
    "\n",
    "        # if in self_flippable_vertically\n",
    "        if c in self_flippable_vertically:\n",
    "            X_ext = np.append(X_ext, X[y==c][:,::-1,:, :], axis = 0)\n",
    "            y_ext = np.append(y_ext, [c for i in np.ndarray([c_size])], axis = 0)\n",
    "\n",
    "        # if in self_flippable_both\n",
    "        if c in self_flippable_both:\n",
    "            X_ext = np.append(X_ext, X[y==c][:,:,::-1, :][:,::-1,:, :], axis = 0)\n",
    "            y_ext = np.append(y_ext, [c for i in np.ndarray([c_size])], axis = 0)\n",
    "\n",
    "        # if in cross_flippable\n",
    "        if c in cross_flippable[:,0]:\n",
    "            c_prime = cross_flippable[np.argwhere(cross_flippable[:,0]==c)][0][0][1]\n",
    "            X_ext = np.append(X_ext, X[y==c][:,:,::-1, :], axis = 0)\n",
    "            y_ext = np.append(y_ext, [c_prime for i in np.ndarray([c_size])], axis = 0)\n",
    "            \n",
    "    return X_ext, y_ext\n"
   ]
  },
  {
   "cell_type": "code",
   "execution_count": 9,
   "metadata": {
    "collapsed": true,
    "deletable": true,
    "editable": true
   },
   "outputs": [],
   "source": [
    "# Preprocessing the dataset.\n",
    "# Different 'contrast modes' are possible; either: rescale_intensity, equalize_hist, or equalize_adapthist\n",
    "def preprocessing(X, contrast_mode, grayscale = True, scale = True, batch_size = 5000):\n",
    "    if grayscale:\n",
    "        X_processed = np.ndarray([0, X.shape[1], X.shape[2], 1])\n",
    "    else:\n",
    "        X_processed = np.ndarray([0, X.shape[1], X.shape[2], X.shape[3]])\n",
    "    \n",
    "    batches = int(np.floor(X.shape[0]/batch_size)+1)\n",
    "    \n",
    "    start_time = time.time()\n",
    "    for batch in range(batches):\n",
    "        if grayscale:\n",
    "            X_batch_processed = np.ndarray([0, X.shape[1], X.shape[2], 1])\n",
    "        else:\n",
    "            X_batch_processed = np.ndarray([0, X.shape[1], X.shape[2], X.shape[3]])\n",
    "        start = batch*batch_size\n",
    "        stop = start+batch_size\n",
    "        X_slice = X[start:stop]\n",
    "        for img in X_slice:\n",
    "            if grayscale:\n",
    "                img = img_as_ubyte(rgb2gray(img))\n",
    "            if 'adapt' in contrast_mode:\n",
    "                img = img_as_ubyte(equalize_adapthist(img.astype(np.uint8))).astype(np.uint8)\n",
    "            elif 'equalize' in contrast_mode:\n",
    "                img = img_as_ubyte(equalize_hist(img.astype(np.uint8))).astype(np.uint8)\n",
    "            elif 'stretch' in contrast_mode:\n",
    "                img = img_as_ubyte(rescale_intensity(img.astype(np.uint8))).astype(np.uint8)\n",
    "            img = img.reshape(32, 32, 1)\n",
    "            X_batch_processed = np.append(X_batch_processed, [img], axis = 0)\n",
    "\n",
    "        X_processed = np.append(X_processed, X_batch_processed, axis = 0)\n",
    "        loop = time.time()\n",
    "        if X_processed.shape[0] >1000:\n",
    "            print('{} images preprocessed in {}s'.format(min([X_batch_processed.shape[0],(batch+1)*batch_size]), loop-start_time))\n",
    "    \n",
    "    return X_processed\n",
    "        \n",
    "        "
   ]
  },
  {
   "cell_type": "code",
   "execution_count": 10,
   "metadata": {
    "collapsed": true,
    "deletable": true,
    "editable": true
   },
   "outputs": [],
   "source": [
    "# Use equalize_adapthist method which tested better than equalize_hist or rescale_intensity\n",
    "processing_mode = 'adapt'"
   ]
  },
  {
   "cell_type": "code",
   "execution_count": 11,
   "metadata": {
    "collapsed": false,
    "deletable": true,
    "editable": true
   },
   "outputs": [],
   "source": [
    "# Data Processed separately using above methods and saved to numpy archive\n",
    "\n",
    "data = np.load('processed_{}.npz'.format(processing_mode))\n",
    "X_processed = data['X']\n",
    "y_processed = data['y']\n",
    "del data\n",
    "\n",
    "data = np.load('valid_processed_{}.npz'.format(processing_mode))\n",
    "X_valid_processed = data['X']\n",
    "y_valid = data['y']\n",
    "del data\n",
    "\n",
    "data = np.load('test_processed_{}.npz'.format(processing_mode))\n",
    "X_test_processed = data['X']\n",
    "y_test = data['y']\n",
    "del data"
   ]
  },
  {
   "cell_type": "code",
   "execution_count": 12,
   "metadata": {
    "collapsed": false,
    "deletable": true,
    "editable": true
   },
   "outputs": [],
   "source": [
    "# Scale Data\n",
    "\n",
    "X_processed = (X_processed-128)/128.\n",
    "X_valid_processed = (X_valid_processed-128)/128.\n",
    "X_test_processed = (X_test_processed-128)/128."
   ]
  },
  {
   "cell_type": "markdown",
   "metadata": {
    "deletable": true,
    "editable": true
   },
   "source": [
    "### Model Architecture"
   ]
  },
  {
   "cell_type": "code",
   "execution_count": 21,
   "metadata": {
    "collapsed": true,
    "deletable": true,
    "editable": true
   },
   "outputs": [],
   "source": [
    "# Hyperparameters\n",
    "# learning_rates tried: [0.1, 0.01, 0.005, 0.001, 0.0005, 0.0001]\n",
    "# batch_sizes tried: [64, 128, 196, 256]\n",
    "\n",
    "param_dict = {\n",
    "        'learning_rate': 0.0005,\n",
    "        'batch_size': 256,\n",
    "        'epochs': 12\n",
    "    }"
   ]
  },
  {
   "cell_type": "code",
   "execution_count": 22,
   "metadata": {
    "collapsed": false,
    "deletable": true,
    "editable": true
   },
   "outputs": [],
   "source": [
    "# Architecture named as such in reference to LeCun & Sermanet\n",
    "# on whose paper this architecture is partially derived\n",
    "\n",
    "def LeSermaNet(x):    \n",
    "    \n",
    "    mu = 0\n",
    "    sigma = 0.1\n",
    "    \n",
    "    \n",
    "    # Layer 1: Convolutional. Input = 32x32; Output = 32x32@cnn_1_depth\n",
    "    cnn_1_depth = 32\n",
    "    cnn_1_fsize = 4\n",
    "    cnn_1_W = tf.Variable(tf.random_normal([cnn_1_fsize, cnn_1_fsize, 1, cnn_1_depth], mean = mu, stddev = sigma))\n",
    "    cnn_1_b = tf.Variable(tf.zeros([cnn_1_depth]))\n",
    "    out_cnn_1 = tf.nn.conv2d(x, cnn_1_W, strides = [1,1,1,1], padding = 'SAME')\n",
    "    out_cnn_1 = tf.nn.bias_add(out_cnn_1, cnn_1_b)\n",
    "    # Activation.\n",
    "    out_cnn_1 = tf.nn.elu(out_cnn_1)\n",
    "    # Pooling. Input = 32x32@cnn_1_depth; Output = 16x16@cnn_1_depth\n",
    "    out_pool_1 = tf.nn.max_pool(out_cnn_1, ksize = [1,2,2,1], strides = [1,2,2,1], padding = 'SAME')\n",
    "    # For multi-layer passthrough; input = 16x16@cnn_1_depth; Ouput = 8x8@cnn_1_depth\n",
    "    multi_layer_1 = flatten(tf.nn.max_pool(out_pool_1, ksize = [1,2,2,1], strides = [1,2,2,1], padding = 'SAME'))\n",
    "\n",
    "    # Layer 2: Convolutional. Input = 16x16@cnn_1_depth; Output = 16x16@cnn_2_depth\n",
    "    cnn_2_depth = 64\n",
    "    cnn_2_fsize = 4\n",
    "    cnn_2_W = tf.Variable(tf.random_normal([cnn_2_fsize, cnn_2_fsize, cnn_1_depth, cnn_2_depth], mean = mu, stddev = sigma))\n",
    "    cnn_2_b = tf.Variable(tf.zeros([cnn_2_depth]))\n",
    "    out_cnn_2 = tf.nn.conv2d(out_pool_1, cnn_2_W, strides = [1,1,1,1], padding = 'SAME')\n",
    "    out_cnn_2 = tf.nn.bias_add(out_cnn_2, cnn_2_b)\n",
    "    # Activation.\n",
    "    out_cnn_2 = tf.nn.elu(out_cnn_2)\n",
    "    # Pooling. Input = 16x16@cnn_2_depth, Output = 8x8@cnn_2_depth\n",
    "    out_pool_2 = tf.nn.max_pool(out_cnn_2, ksize = [1,2,2,1], strides = [1,2,2,1], padding = 'SAME')\n",
    "    # For multi-layer passthrough; input = 8x8@cnn_2_depth; Output = 4x4@cnn_2_depth\n",
    "    multi_layer_2 = flatten(tf.nn.max_pool(out_pool_2, ksize = [1,2,2,1], strides = [1,2,2,1], padding = 'SAME'))\n",
    "    \n",
    "    # Layer 3: Convulutional. Input = 8X8@cnn_2_depth; Output = 8x8@cnn_3_depth\n",
    "    cnn_3_depth = 128\n",
    "    cnn_3_fsize = 4\n",
    "    cnn_3_W = tf.Variable(tf.random_normal([cnn_3_fsize, cnn_3_fsize, cnn_2_depth, cnn_3_depth], mean = mu, stddev = sigma))\n",
    "    cnn_3_b = tf.Variable(tf.zeros([cnn_3_depth]))\n",
    "    out_cnn_3 = tf.nn.conv2d(out_pool_2, cnn_3_W, strides = [1,1,1,1], padding = 'SAME')\n",
    "    out_cnn_3 = tf.nn.bias_add(out_cnn_3, cnn_3_b)\n",
    "    # Activation\n",
    "    out_cnn_3 = tf.nn.elu(out_cnn_3)\n",
    "    # Pooling. Input = 8x8@cnn_3_depth, Output = 4x4@cnn_3_depth\n",
    "    out_pool_3 = tf.nn.max_pool(out_cnn_3, ksize = [1,2,2,1], strides = [1,2,2,1], padding = 'SAME')\n",
    "    \n",
    "    \n",
    "    # Flatten. Input = 4x4xcnn_3_depth,\n",
    "    out_pool_3 = flatten(out_pool_3)\n",
    "    \n",
    "    # Concat all passthrough tensor with flattened out_pool_3 \n",
    "    #in_full_1 = tf.concat([flattened, multi_layer_1, multi_layer_2], axis = 1)\n",
    "    in_full_1 = tf.concat(values = [out_pool_3, multi_layer_1, multi_layer_2], concat_dim = 1)\n",
    "    in_full_depth = int((4*4*cnn_3_depth) + (4*4*cnn_2_depth)+ (8*8*cnn_1_depth))\n",
    "    \n",
    "    # Fully Connected. \n",
    "    full_1_depth = int(in_full_depth/4)\n",
    "    full_1_W = tf.Variable(tf.truncated_normal(shape = [in_full_depth, full_1_depth], mean = mu, stddev = sigma))\n",
    "    full_1_b = tf.Variable(tf.zeros([full_1_depth]))\n",
    "    out_full_1 = tf.add(tf.matmul(in_full_1, full_1_W), full_1_b)\n",
    "    \n",
    "    # Activation\n",
    "    keep_prob_1 = 0.5\n",
    "    out_full_1 = tf.nn.elu(out_full_1)\n",
    "    out_full_1 = tf.nn.dropout(out_full_1, keep_prob = keep_prob_1)\n",
    "\n",
    "    # TODO: Layer 4: Fully Connected. Output = 84.\n",
    "    full_2_depth = 256\n",
    "    \n",
    "    full_2_W = tf.Variable(tf.truncated_normal(shape = [full_1_depth, full_2_depth], mean = mu, stddev = sigma))\n",
    "    full_2_b = tf.Variable(tf.zeros([full_2_depth]))\n",
    "    out_full_2 = tf.add(tf.matmul(out_full_1, full_2_W), full_2_b)\n",
    "    \n",
    "    # TODO: Activation\n",
    "    keep_prob_2 = 0.75\n",
    "    out_full_2 = tf.nn.elu(out_full_2)\n",
    "    out_full_2 = tf.nn.dropout(out_full_2, keep_prob = keep_prob_2)\n",
    "\n",
    "    # TODO: Layer 5: Fully Connected. Input = 84. Output = 10.\n",
    "    out_W = tf.Variable(tf.truncated_normal(shape = [full_2_depth, 43], mean = mu, stddev = sigma))\n",
    "    out_b = tf.Variable(tf.zeros(shape = 43))\n",
    "    logits = tf.add(tf.matmul(out_full_2, out_W),out_b)\n",
    "    \n",
    "    return logits"
   ]
  },
  {
   "cell_type": "code",
   "execution_count": 23,
   "metadata": {
    "collapsed": false,
    "deletable": true,
    "editable": true
   },
   "outputs": [],
   "source": [
    "x = tf.placeholder(tf.float32, (None, 32, 32, 1))\n",
    "y = tf.placeholder(tf.int32, (None))\n",
    "one_hot_y = tf.one_hot(y, n_classes)"
   ]
  },
  {
   "cell_type": "markdown",
   "metadata": {
    "deletable": true,
    "editable": true
   },
   "source": [
    "### Train, Validate and Test the Model"
   ]
  },
  {
   "cell_type": "markdown",
   "metadata": {
    "deletable": true,
    "editable": true
   },
   "source": [
    "A validation set can be used to assess how well the model is performing. A low accuracy on the training and validation\n",
    "sets imply underfitting. A high accuracy on the training set but low accuracy on the validation set implies overfitting."
   ]
  },
  {
   "cell_type": "code",
   "execution_count": 24,
   "metadata": {
    "collapsed": false,
    "deletable": true,
    "editable": true
   },
   "outputs": [],
   "source": [
    "rate = param_dict['learning_rate']\n",
    "\n",
    "logits = LeSermaNet(x)\n",
    "cross_entropy = tf.nn.softmax_cross_entropy_with_logits(labels=one_hot_y, logits=logits)\n",
    "loss_operation = tf.reduce_mean(cross_entropy)\n",
    "#optimizer = tf.train.MomentumOptimizer(learning_rate = rate, momentum = 0.9)\n",
    "optimizer = tf.train.AdamOptimizer(learning_rate = rate)\n",
    "training_operation = optimizer.minimize(loss_operation)"
   ]
  },
  {
   "cell_type": "code",
   "execution_count": 25,
   "metadata": {
    "collapsed": true,
    "deletable": true,
    "editable": true
   },
   "outputs": [],
   "source": [
    "correct_prediction = tf.equal(tf.argmax(logits, 1), tf.argmax(one_hot_y, 1))\n",
    "accuracy_operation = tf.reduce_mean(tf.cast(correct_prediction, tf.float32))\n",
    "saver = tf.train.Saver()\n",
    "\n",
    "def evaluate(X_data, y_data):\n",
    "    num_examples = len(X_data)\n",
    "    total_accuracy = 0\n",
    "    sess = tf.get_default_session()\n",
    "    for offset in range(0, num_examples, BATCH_SIZE):\n",
    "        batch_x, batch_y = X_data[offset:offset+BATCH_SIZE], y_data[offset:offset+BATCH_SIZE]\n",
    "        accuracy = sess.run(accuracy_operation, feed_dict={x: batch_x, y: batch_y})\n",
    "        total_accuracy += (accuracy * len(batch_x))\n",
    "    return total_accuracy / num_examples"
   ]
  },
  {
   "cell_type": "code",
   "execution_count": 26,
   "metadata": {
    "collapsed": false,
    "deletable": true,
    "editable": true,
    "scrolled": true
   },
   "outputs": [
    {
     "name": "stdout",
     "output_type": "stream",
     "text": [
      "Training...\n",
      "\n",
      "Epoch 1 ...\n",
      "Training Accuracy = 0.786\n",
      "Validation Accuracy = 0.782\n",
      "1 Epochs in 4.57m @ 4.6m/epoch\n",
      "\n",
      "Epoch 2 ...\n",
      "Training Accuracy = 0.913\n",
      "Validation Accuracy = 0.913\n",
      "2 Epochs in 10.62m @ 5.3m/epoch\n",
      "\n",
      "Epoch 3 ...\n",
      "Training Accuracy = 0.952\n",
      "Validation Accuracy = 0.942\n",
      "3 Epochs in 16.47m @ 5.5m/epoch\n",
      "\n",
      "Epoch 4 ...\n",
      "Training Accuracy = 0.969\n",
      "Validation Accuracy = 0.946\n",
      "4 Epochs in 22.48m @ 5.6m/epoch\n",
      "\n",
      "Epoch 5 ...\n",
      "Training Accuracy = 0.978\n",
      "Validation Accuracy = 0.965\n",
      "5 Epochs in 28.47m @ 5.7m/epoch\n",
      "\n",
      "Epoch 6 ...\n",
      "Training Accuracy = 0.981\n",
      "Validation Accuracy = 0.963\n",
      "6 Epochs in 34.97m @ 5.8m/epoch\n",
      "\n",
      "Epoch 7 ...\n",
      "Training Accuracy = 0.986\n",
      "Validation Accuracy = 0.966\n",
      "7 Epochs in 41.89m @ 6.0m/epoch\n",
      "\n",
      "Epoch 8 ...\n",
      "Training Accuracy = 0.985\n",
      "Validation Accuracy = 0.960\n",
      "8 Epochs in 49.29m @ 6.2m/epoch\n",
      "\n",
      "Epoch 9 ...\n",
      "Training Accuracy = 0.987\n",
      "Validation Accuracy = 0.968\n",
      "9 Epochs in 57.49m @ 6.4m/epoch\n",
      "\n",
      "Epoch 10 ...\n",
      "Training Accuracy = 0.990\n",
      "Validation Accuracy = 0.971\n",
      "10 Epochs in 66.08m @ 6.6m/epoch\n",
      "\n",
      "Epoch 11 ...\n",
      "Training Accuracy = 0.992\n",
      "Validation Accuracy = 0.974\n",
      "11 Epochs in 75.34m @ 6.8m/epoch\n",
      "\n",
      "Epoch 12 ...\n",
      "Training Accuracy = 0.992\n",
      "Validation Accuracy = 0.973\n",
      "12 Epochs in 85.07m @ 7.1m/epoch\n",
      "\n",
      "Model saved to ./lesermanet\n"
     ]
    }
   ],
   "source": [
    "EPOCHS = param_dict['epochs']\n",
    "BATCH_SIZE = param_dict['batch_size']\n",
    "\n",
    "with tf.Session() as sess:\n",
    "    time_start = time.time()\n",
    "    \n",
    "    sess.run(tf.global_variables_initializer())\n",
    "    num_examples = len(X_train)\n",
    "    \n",
    "    epoch_scores = []\n",
    "    \n",
    "    print(\"Training...\")\n",
    "    print()\n",
    "    for i in range(EPOCHS):\n",
    "        #X_train, y_train = shuffle(X_train, y_train)\n",
    "        X_train, y_train = shuffle(X_processed, y_processed)\n",
    "        for offset in range(0, num_examples, BATCH_SIZE):\n",
    "            end = offset + BATCH_SIZE\n",
    "            batch_x, batch_y = X_train[offset:end], y_train[offset:end]\n",
    "            sess.run(training_operation, feed_dict={x: batch_x, y: batch_y})\n",
    "        \n",
    "        time_epoch = time.time()\n",
    "        #validation_accuracy = evaluate(X_valid, y_valid)\n",
    "        train_accuracy = evaluate(X_processed, y_processed)\n",
    "        validation_accuracy = evaluate(X_valid_processed, y_valid)\n",
    "        epoch_scores.append(validation_accuracy)\n",
    "        print(\"Epoch {} ...\".format(i+1))\n",
    "        print(\"Training Accuracy = {:.3f}\".format(train_accuracy))\n",
    "        print(\"Validation Accuracy = {:.3f}\".format(validation_accuracy))\n",
    "        print(\"{} Epochs in {:.2f}m @ {:.1f}m/epoch\".format(i+1, (time_epoch-time_start)/60., ((time_epoch-time_start)/60.)/(i+1)))\n",
    "        print()\n",
    "    \n",
    "    save_path = saver.save(sess, './lesermanet')\n",
    "    saver.save(sess, './lesermanet')\n",
    "    print(\"Model saved to %s\" % save_path)"
   ]
  },
  {
   "cell_type": "markdown",
   "metadata": {
    "deletable": true,
    "editable": true
   },
   "source": [
    "## Evaluation"
   ]
  },
  {
   "cell_type": "code",
   "execution_count": 27,
   "metadata": {
    "collapsed": false,
    "deletable": true,
    "editable": true
   },
   "outputs": [
    {
     "name": "stdout",
     "output_type": "stream",
     "text": [
      "Test Accuracy = 0.945\n"
     ]
    }
   ],
   "source": [
    "with tf.Session() as sess:\n",
    "    saver.restore(sess, './lesermanet')\n",
    "\n",
    "    test_accuracy = evaluate(X_test_processed, y_test)\n",
    "    print(\"Test Accuracy = {:.3f}\".format(test_accuracy))"
   ]
  },
  {
   "cell_type": "markdown",
   "metadata": {
    "deletable": true,
    "editable": true
   },
   "source": [
    "---\n",
    "\n",
    "## Step 3: Test a Model on New Images\n",
    "\n",
    "To give yourself more insight into how your model is working, download at least five pictures of German traffic signs from the web and use your model to predict the traffic sign type.\n",
    "\n",
    "You may find `signnames.csv` useful as it contains mappings from the class id (integer) to the actual sign name."
   ]
  },
  {
   "cell_type": "markdown",
   "metadata": {
    "deletable": true,
    "editable": true
   },
   "source": [
    "### Load and Output the Images"
   ]
  },
  {
   "cell_type": "code",
   "execution_count": 28,
   "metadata": {
    "collapsed": false,
    "deletable": true,
    "editable": true
   },
   "outputs": [],
   "source": [
    "### Load the images and plot them here.\n",
    "\n",
    "def load_images():\n",
    "    custom_images = np.ndarray([0, 32, 32, 3])\n",
    "    for i in range(1,6):\n",
    "        img = imread('german_roadsigns/test_sign_{}'.format(i))\n",
    "        img = img[:,:,:3]\n",
    "        img = resize(img, (32,32))\n",
    "        custom_images = np.append(custom_images, [img], axis = 0)\n",
    "    return custom_images\n",
    "\n",
    "X_custom = load_images()\n",
    "y_custom = np.array([18, 38, 12, 17, 1])"
   ]
  },
  {
   "cell_type": "code",
   "execution_count": 29,
   "metadata": {
    "collapsed": false,
    "deletable": true,
    "editable": true
   },
   "outputs": [
    {
     "data": {
      "image/png": "[encoded data removed]",
      "text/plain": [
       "<matplotlib.figure.Figure at 0x7f116b85e630>"
      ]
     },
     "metadata": {},
     "output_type": "display_data"
    }
   ],
   "source": [
    "fig, ((ax1,ax2,ax3),(ax4,ax5, ax6)) = plt.subplots(2,3, figsize = (18,18))\n",
    "fig.suptitle('Arbitrary Images of German Traffic Signs taken from Google Maps Streetview screenshots', fontsize = 24, fontweight = 'bold')\n",
    "im1 = ax1.imshow(X_custom[0])\n",
    "ax1.set_title('Class {}: {}'.format(y_custom[0], signkey.loc[y_custom[0], 'SignName']), fontsize = 18)\n",
    "im2 = ax2.imshow(X_custom[1])\n",
    "ax2.set_title('Class {}: {}'.format(y_custom[1], signkey.loc[y_custom[1], 'SignName']), fontsize = 18)\n",
    "im3 = ax3.imshow(X_custom[2])\n",
    "ax3.set_title('Class {}: {}'.format(y_custom[2], signkey.loc[y_custom[2], 'SignName']), fontsize = 18)\n",
    "im4 = ax4.imshow(X_custom[3])\n",
    "ax4.set_title('Class {}: {}'.format(y_custom[3], signkey.loc[y_custom[3], 'SignName']), fontsize = 18)\n",
    "im5 = ax5.imshow(X_custom[4])\n",
    "ax5.set_title('Class {}: {}'.format(y_custom[4], signkey.loc[y_custom[4], 'SignName']), fontsize = 18)\n",
    "ax6.axis('off')\n",
    "\n",
    "plt.tight_layout()\n",
    "plt.savefig('graphics/custom_roadsigns')\n",
    "\n"
   ]
  },
  {
   "cell_type": "markdown",
   "metadata": {
    "deletable": true,
    "editable": true
   },
   "source": [
    "### Predict the Sign Type for Each Image"
   ]
  },
  {
   "cell_type": "code",
   "execution_count": 30,
   "metadata": {
    "collapsed": false,
    "deletable": true,
    "editable": true
   },
   "outputs": [
    {
     "name": "stderr",
     "output_type": "stream",
     "text": [
      "/home/carnd/anaconda3/envs/carnd-term1/lib/python3.5/site-packages/skimage/util/dtype.py:110: UserWarning: Possible precision loss when converting from float64 to uint8\n",
      "  \"%s to %s\" % (dtypeobj_in, dtypeobj))\n"
     ]
    }
   ],
   "source": [
    "### Run the predictions here and use the model to output the prediction for each image.\n",
    "### Make sure to pre-process the images with the same pre-processing pipeline used earlier.\n",
    "### Feel free to use as many code cells as needed.\n",
    "X_custom_processed = preprocessing(X_custom, contrast_mode = 'adapt', scale = False)\n",
    "X_custom_processed = (X_custom_processed-128)/128\n"
   ]
  },
  {
   "cell_type": "code",
   "execution_count": 31,
   "metadata": {
    "collapsed": false,
    "deletable": true,
    "editable": true
   },
   "outputs": [
    {
     "data": {
      "image/png": "[encoded data removed]",
      "text/plain": [
       "<matplotlib.figure.Figure at 0x7f11e4506748>"
      ]
     },
     "metadata": {},
     "output_type": "display_data"
    }
   ],
   "source": [
    "with tf.Session() as sess:\n",
    "    saver.restore(sess, './lesermanet')\n",
    "\n",
    "    logits_custom = sess.run(logits, feed_dict = {x: X_custom_processed, y: y_custom})\n",
    "\n",
    "y_hat_custom = np.argmax(logits_custom, axis = 1)\n",
    "\n",
    "fig, ((ax1,ax2,ax3),(ax4,ax5, ax6)) = plt.subplots(2,3, figsize = (18,18))\n",
    "fig.suptitle('Arbitrary Images of German Traffic Signs taken from Google Maps Streetview screenshots', fontsize = 24, fontweight = 'bold')\n",
    "im1 = ax1.imshow(X_custom[0])\n",
    "ax1.set_title('Actual - Class {}: {} \\n Predicted - Class {}: {}'.format(y_custom[0], signkey.loc[y_custom[0], 'SignName'], y_hat_custom[0], signkey.loc[y_hat_custom[0], 'SignName']), fontsize = 18)\n",
    "im2 = ax2.imshow(X_custom[1])\n",
    "ax2.set_title('Actual - Class {}: {} \\n Predicted - Class {}: {}'.format(y_custom[1], signkey.loc[y_custom[1], 'SignName'], y_hat_custom[1], signkey.loc[y_hat_custom[1], 'SignName']), fontsize = 18)\n",
    "im3 = ax3.imshow(X_custom[2])\n",
    "ax3.set_title('Actual - Class {}: {} \\n Predicted - Class {}: {}'.format(y_custom[2], signkey.loc[y_custom[2], 'SignName'], y_hat_custom[2], signkey.loc[y_hat_custom[2], 'SignName']), fontsize = 18)\n",
    "im4 = ax4.imshow(X_custom[3])\n",
    "ax4.set_title('Actual - Class {}: {} \\n Predicted - Class {}: {}'.format(y_custom[3], signkey.loc[y_custom[3], 'SignName'], y_hat_custom[3], signkey.loc[y_hat_custom[3], 'SignName']), fontsize = 18)\n",
    "im5 = ax5.imshow(X_custom[4])\n",
    "ax5.set_title('Actual - Class {}: {} \\n Predicted - Class {}: {}'.format(y_custom[4], signkey.loc[y_custom[4], 'SignName'], y_hat_custom[4], signkey.loc[y_hat_custom[4], 'SignName']), fontsize = 18)\n",
    "ax6.axis('off')\n",
    "\n",
    "plt.tight_layout()\n",
    "plt.savefig('graphics/custom_roadsigns_predictions')\n"
   ]
  },
  {
   "cell_type": "markdown",
   "metadata": {
    "deletable": true,
    "editable": true
   },
   "source": [
    "### Analyze Performance"
   ]
  },
  {
   "cell_type": "code",
   "execution_count": 32,
   "metadata": {
    "collapsed": false,
    "deletable": true,
    "editable": true
   },
   "outputs": [
    {
     "name": "stdout",
     "output_type": "stream",
     "text": [
      "Accuracy for custom images is 100.0%\n"
     ]
    }
   ],
   "source": [
    "### Calculate the accuracy for these 5 new images. \n",
    "### For example, if the model predicted 1 out of 5 signs correctly, it's 20% accurate on these new images.\n",
    "\n",
    "accuracy_custom = np.mean([x==y for (x,y) in zip(y_custom, y_hat_custom)])\n",
    "\n",
    "print('Accuracy for custom images is {:.1%}'.format(accuracy_custom))"
   ]
  },
  {
   "cell_type": "markdown",
   "metadata": {
    "deletable": true,
    "editable": true
   },
   "source": [
    "### Output Top 5 Softmax Probabilities For Each Image Found on the Web"
   ]
  },
  {
   "cell_type": "code",
   "execution_count": 33,
   "metadata": {
    "collapsed": false,
    "deletable": true,
    "editable": true
   },
   "outputs": [
    {
     "name": "stderr",
     "output_type": "stream",
     "text": [
      "/home/carnd/anaconda3/envs/carnd-term1/lib/python3.5/site-packages/ipykernel/__main__.py:5: RuntimeWarning: overflow encountered in exp\n",
      "/home/carnd/anaconda3/envs/carnd-term1/lib/python3.5/site-packages/ipykernel/__main__.py:6: RuntimeWarning: overflow encountered in exp\n"
     ]
    },
    {
     "name": "stdout",
     "output_type": "stream",
     "text": [
      "Actual Class for Sign - 18: General caution\n",
      "                 Class  Probability\n",
      "General caution     18          1.0\n",
      "Pedestrians         27          0.0\n",
      "Traffic signals     26          0.0\n",
      "No entry            17          0.0\n",
      "Double curve        21          0.0\n",
      "\n",
      "\n",
      "Actual Class for Sign - 38: Keep right\n",
      "                      Class  Probability\n",
      "Keep right               38          1.0\n",
      "No entry                 17          0.0\n",
      "Priority road            12          0.0\n",
      "Turn left ahead          34          0.0\n",
      "Roundabout mandatory     40          0.0\n",
      "\n",
      "\n",
      "Actual Class for Sign - 12: Priority road\n",
      "                      Class  Probability\n",
      "Priority road            12          1.0\n",
      "Yield                    13          0.0\n",
      "Roundabout mandatory     40          0.0\n",
      "No entry                 17          0.0\n",
      "Keep left                39          0.0\n",
      "\n",
      "\n",
      "Actual Class for Sign - 17: No entry\n",
      "                                          Class  Probability\n",
      "No entry                                     17          1.0\n",
      "Vehicles over 3.5 metric tons prohibited     16          0.0\n",
      "End of all speed and passing limits          32          0.0\n",
      "Stop                                         14          0.0\n",
      "No passing                                    9          0.0\n",
      "\n",
      "\n",
      "Actual Class for Sign - 1: Speed limit (30km/h)\n",
      "                      Class  Probability\n",
      "Speed limit (30km/h)      1          1.0\n",
      "Speed limit (50km/h)      2          0.0\n",
      "Speed limit (80km/h)      5          0.0\n",
      "Go straight or left      37          0.0\n",
      "Speed limit (20km/h)      0          0.0\n",
      "\n",
      "\n"
     ]
    }
   ],
   "source": [
    "### Print out the top five softmax probabilities for the predictions on the German traffic sign images found on the web. \n",
    "### Feel free to use as many code cells as needed.\n",
    "\n",
    "def softmax(logits):\n",
    "    softmax_probs = np.nan_to_num(np.exp(logits))\n",
    "    softmax_probs = softmax_probs/np.nan_to_num(np.sum(np.exp(logits), axis = 1, keepdims = True))\n",
    "    return softmax_probs\n",
    "    \n",
    "softmax_probs = softmax(logits_custom)\n",
    "\n",
    "with tf.Session() as sess:\n",
    "    top_5_probs = sess.run(tf.nn.top_k(tf.constant(softmax_probs), k=5))\n",
    "    \n",
    "    \n",
    "from pandas.tools.plotting import table\n",
    "\n",
    "\n",
    "plt.savefig('mytable.png')\n",
    "for i in range(top_5_probs[0].shape[0]):\n",
    "    custom_prob_dict = {'Probability': top_5_probs[0][i], 'Class':top_5_probs[1][i].astype(np.uint8)}\n",
    "    custom_i_df = pd.DataFrame(custom_prob_dict)\n",
    "    custom_i_df = custom_i_df.round(4)\n",
    "    custom_i_df.index = list(signkey.loc[list(custom_i_df.loc[:,'Class']), 'SignName'])\n",
    "    print('Actual Class for Sign - {}: {}'.format(y_custom[i], signkey.loc[y_custom[i], 'SignName']))\n",
    "    print(custom_i_df)\n",
    "    print('\\n')\n",
    "    \n",
    "    '''\n",
    "    ax = plt.subplot(111, frame_on=False) # no visible frame\n",
    "    ax.xaxis.set_visible(False)  # hide the x axis\n",
    "    ax.yaxis.set_visible(False)  # hide the y axis\n",
    "    title_string = 'Softmax Probabilities for Streetview Signs, Actual Class - {}: {}'.format(y_custom[i], signkey.loc[y_custom[i], 'SignName'])\n",
    "    ax.set_title(title_string)\n",
    "    table(ax, custom_i_df)  # where df is your data frame\n",
    "    '''\n",
    "    \n",
    "    ax  = custom_i_df.plot(kind = 'bar')\n",
    "    fig = ax.get_figure()\n",
    "    plt.tight_layout()\n",
    "    plt.savefig('graphics/softmax_probs_{}'.format(i))\n",
    "    plt.close('all')\n",
    "\n",
    "    "
   ]
  },
  {
   "cell_type": "markdown",
   "metadata": {
    "deletable": true,
    "editable": true
   },
   "source": [
    "### ** END**"
   ]
  }
 ],
 "metadata": {
  "anaconda-cloud": {},
  "kernelspec": {
   "display_name": "Python 3",
   "language": "python",
   "name": "python3"
  },
  "language_info": {
   "codemirror_mode": {
    "name": "ipython",
    "version": 3
   },
   "file_extension": ".py",
   "mimetype": "text/x-python",
   "name": "python",
   "nbconvert_exporter": "python",
   "pygments_lexer": "ipython3",
   "version": "3.6.0"
  },
  "widgets": {
   "state": {},
   "version": "1.1.2"
  }
 },
 "nbformat": 4,
 "nbformat_minor": 1
}
